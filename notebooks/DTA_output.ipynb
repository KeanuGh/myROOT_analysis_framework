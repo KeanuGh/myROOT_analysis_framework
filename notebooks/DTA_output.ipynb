{
 "cells": [
  {
   "cell_type": "code",
   "execution_count": 1,
   "metadata": {
    "collapsed": true
   },
   "outputs": [
    {
     "name": "stdout",
     "output_type": "stream",
     "text": [
      "Welcome to JupyROOT 6.26/00\n"
     ]
    }
   ],
   "source": [
    "import uproot\n",
    "import pandas as pd\n",
    "import awkward\n",
    "import ROOT\n",
    "ROOT.EnableImplicitMT()"
   ]
  },
  {
   "cell_type": "code",
   "execution_count": 2,
   "outputs": [],
   "source": [
    "filepath = '/mnt/D/data/DTA_outputs/user.kghorban.Sh_2211_Wtaunu_H_maxHTpTV2_CVetoBVeto.MC16a.v1.2022-04-01_histograms.root/*.root'\n",
    "treename = 'T_s1thv_NOMINAL'\n",
    "wanted_cols = [\n",
    "\t'mcWeight',\n",
    "\t'runNumber',\n",
    "\t'eventNumber',\n",
    "\t'nVtx',\n",
    "\t'passTruth',\n",
    "\t'passReco',\n",
    "\t'TauEta', 'TauPhi', 'TauPt', 'TauE',\n",
    "\t'JetEta', 'JetPhi', 'JetE', 'Jet_btag',\n",
    "\t'MuonEta', 'MuonPhi', 'MuonPt', 'MuonE', 'Muon_d0sig', 'Muon_delta_z0',\n",
    "\t'PhotonEta', 'PhotonPhi', 'PhotonPt', 'PhotonE',\n",
    "\t'TruthJetE', 'TruthJetPhi', 'TruthJetPt', 'TruthJetE',\n",
    "\t'TruthNeutrinoEta', 'TruthNeutrinoPhi', 'TruthNeutrinoPt', 'TruthNeutrinoE',\n",
    "\t'TruthMuonEta', 'TruthMuonPhi', 'TruthMuonPt', 'TruthMuonE',\n",
    "\t'TruthEleEta', 'TruthElePhi', 'TruthElePt', 'TruthEleE',\n",
    "\t'TruthTauEta', 'TruthTauPhi', 'TruthTauPt', 'TruthTauM',\n",
    "\t'VisTruthTauEta', 'VisTruthTauPhi', 'VisTruthTauPt', 'VisTruthTauM',\n",
    "\t'TruthTau_isHadronic',\n",
    "\t'MET_etx', 'MET_ety', 'MET_met', 'MET_phi',\n",
    "]"
   ],
   "metadata": {
    "collapsed": false,
    "pycharm": {
     "name": "#%%\n"
    }
   }
  },
  {
   "cell_type": "code",
   "execution_count": 3,
   "outputs": [],
   "source": [
    "Rdf = ROOT.RDataFrame(treename, filepath)"
   ],
   "metadata": {
    "collapsed": false,
    "pycharm": {
     "name": "#%%\n"
    }
   }
  },
  {
   "cell_type": "code",
   "execution_count": 10,
   "outputs": [
    {
     "name": "stdout",
     "output_type": "stream",
     "text": [
      "691 ms ± 12.9 ms per loop (mean ± std. dev. of 7 runs, 1 loop each)\n"
     ]
    }
   ],
   "source": [
    "%%timeit\n",
    "df = pd.DataFrame(Rdf.AsNumpy())"
   ],
   "metadata": {
    "collapsed": false,
    "pycharm": {
     "name": "#%%\n"
    }
   }
  },
  {
   "cell_type": "code",
   "execution_count": null,
   "outputs": [],
   "source": [
    "df = pd.DataFrame(Rdf.AsNumpy())\n",
    "df"
   ],
   "metadata": {
    "collapsed": false,
    "pycharm": {
     "name": "#%%\n"
    }
   }
  },
  {
   "cell_type": "code",
   "execution_count": 12,
   "outputs": [
    {
     "name": "stdout",
     "output_type": "stream",
     "text": [
      "248 ms ± 5.23 ms per loop (mean ± std. dev. of 7 runs, 1 loop each)\n"
     ]
    }
   ],
   "source": [
    "%%timeit\n",
    "df = pd.DataFrame(uproot.concatenate(f'{filepath}:{treename}', expressions=wanted_cols, library='np'))"
   ],
   "metadata": {
    "collapsed": false,
    "pycharm": {
     "name": "#%%\n"
    }
   }
  },
  {
   "cell_type": "code",
   "execution_count": 15,
   "outputs": [
    {
     "data": {
      "text/plain": "         mcWeight  runNumber  eventNumber  nVtx  passTruth  passReco  \\\n0       4897494.5     310738       557985    22       True      True   \n1     -25776374.0     311365       556591    17       True     False   \n2      35386328.0     302393       556872    17       True     False   \n3       5263136.0     308047       557296    12       True      True   \n4      43274236.0     307935       556459    18       True      True   \n...           ...        ...          ...   ...        ...       ...   \n9146   30692056.0     309759       582549    17       True      True   \n9147    4040004.5     280977       636290    11       True     False   \n9148   -4881536.5     308084       582410    12       True      True   \n9149  868029952.0     304128       582104    14       True     False   \n9150   -1795006.0     307539       636089    23       True     False   \n\n             TauEta         TauPhi        TauPt         TauE  ... TruthTauM  \\\n0      [-0.8963215]  [-0.41526923]   [39196.06]   [56023.71]  ...  [1777.0]   \n1                []             []           []           []  ...  [1777.0]   \n2      [-0.7342175]   [-1.8253739]  [24635.354]  [31579.217]  ...  [1777.0]   \n3       [-0.529145]   [-2.4099522]  [34420.023]   [39352.22]  ...  [1777.0]   \n4     [-0.90045965]      [2.42088]  [42738.984]   [61268.83]  ...  [1777.0]   \n...             ...            ...          ...          ...  ...       ...   \n9146  [-0.13473205]  [-0.54347754]   [70074.29]   [70711.27]  ...  [1777.0]   \n9147             []             []           []           []  ...  [1777.0]   \n9148   [-0.7504387]    [-0.491165]   [44057.32]  [57056.176]  ...  [1777.0]   \n9149             []             []           []           []  ...  [1777.0]   \n9150    [0.4112192]   [-2.1208568]  [21670.832]   [23529.08]  ...  [1777.0]   \n\n     VisTruthTauEta VisTruthTauPhi VisTruthTauPt VisTruthTauM  \\\n0     [-0.89803916]   [-0.4110836]   [41961.125]     [1777.0]   \n1       [2.1337817]     [2.341308]   [24360.953]     [1777.0]   \n2      [-0.7199793]   [-1.8012636]   [23008.834]     [1777.0]   \n3      [-0.5263215]   [-2.4077308]   [33767.562]     [1777.0]   \n4     [-0.90044683]    [2.4221358]     [42185.3]     [1777.0]   \n...             ...            ...           ...          ...   \n9146  [-0.13472795]  [-0.54335463]   [69399.555]     [1777.0]   \n9147    [0.9883538]    [2.9204404]    [35454.15]     [1777.0]   \n9148  [-0.76293766]  [-0.48876056]    [43294.34]     [1777.0]   \n9149    [2.2029648]    [2.5186114]    [32536.69]     [1777.0]   \n9150   [0.40353733]   [-2.1046002]   [20092.137]     [1777.0]   \n\n     TruthTau_isHadronic        MET_etx        MET_ety        MET_met  \\\n0                 [True]   64979.449219 -124304.953125  140264.218750   \n1                 [True]  -60087.882812   10104.359375   60931.535156   \n2                 [True]   -8313.356445   38005.554688   38904.167969   \n3                 [True]  -17014.312500  -38545.277344   42133.421875   \n4                 [True]  -31137.955078  -28185.619141   42000.015625   \n...                  ...            ...            ...            ...   \n9146              [True]   28231.546875  -43072.949219   51500.476562   \n9147              [True]   24393.613281  -23741.183594   34039.566406   \n9148              [True]  116225.898438  -72796.164062  137141.312500   \n9149              [True]   -5797.165039   -9549.891602   11171.730469   \n9150              [True]   36216.789062  -55844.144531   66559.929688   \n\n       MET_phi  \n0    -1.089121  \n1     2.974992  \n2     1.786145  \n3    -1.986485  \n4    -2.405920  \n...        ...  \n9146 -0.990609  \n9147 -0.771845  \n9148 -0.559558  \n9149 -2.116376  \n9150 -0.995453  \n\n[9151 rows x 52 columns]",
      "text/html": "<div>\n<style scoped>\n    .dataframe tbody tr th:only-of-type {\n        vertical-align: middle;\n    }\n\n    .dataframe tbody tr th {\n        vertical-align: top;\n    }\n\n    .dataframe thead th {\n        text-align: right;\n    }\n</style>\n<table border=\"1\" class=\"dataframe\">\n  <thead>\n    <tr style=\"text-align: right;\">\n      <th></th>\n      <th>mcWeight</th>\n      <th>runNumber</th>\n      <th>eventNumber</th>\n      <th>nVtx</th>\n      <th>passTruth</th>\n      <th>passReco</th>\n      <th>TauEta</th>\n      <th>TauPhi</th>\n      <th>TauPt</th>\n      <th>TauE</th>\n      <th>...</th>\n      <th>TruthTauM</th>\n      <th>VisTruthTauEta</th>\n      <th>VisTruthTauPhi</th>\n      <th>VisTruthTauPt</th>\n      <th>VisTruthTauM</th>\n      <th>TruthTau_isHadronic</th>\n      <th>MET_etx</th>\n      <th>MET_ety</th>\n      <th>MET_met</th>\n      <th>MET_phi</th>\n    </tr>\n  </thead>\n  <tbody>\n    <tr>\n      <th>0</th>\n      <td>4897494.5</td>\n      <td>310738</td>\n      <td>557985</td>\n      <td>22</td>\n      <td>True</td>\n      <td>True</td>\n      <td>[-0.8963215]</td>\n      <td>[-0.41526923]</td>\n      <td>[39196.06]</td>\n      <td>[56023.71]</td>\n      <td>...</td>\n      <td>[1777.0]</td>\n      <td>[-0.89803916]</td>\n      <td>[-0.4110836]</td>\n      <td>[41961.125]</td>\n      <td>[1777.0]</td>\n      <td>[True]</td>\n      <td>64979.449219</td>\n      <td>-124304.953125</td>\n      <td>140264.218750</td>\n      <td>-1.089121</td>\n    </tr>\n    <tr>\n      <th>1</th>\n      <td>-25776374.0</td>\n      <td>311365</td>\n      <td>556591</td>\n      <td>17</td>\n      <td>True</td>\n      <td>False</td>\n      <td>[]</td>\n      <td>[]</td>\n      <td>[]</td>\n      <td>[]</td>\n      <td>...</td>\n      <td>[1777.0]</td>\n      <td>[2.1337817]</td>\n      <td>[2.341308]</td>\n      <td>[24360.953]</td>\n      <td>[1777.0]</td>\n      <td>[True]</td>\n      <td>-60087.882812</td>\n      <td>10104.359375</td>\n      <td>60931.535156</td>\n      <td>2.974992</td>\n    </tr>\n    <tr>\n      <th>2</th>\n      <td>35386328.0</td>\n      <td>302393</td>\n      <td>556872</td>\n      <td>17</td>\n      <td>True</td>\n      <td>False</td>\n      <td>[-0.7342175]</td>\n      <td>[-1.8253739]</td>\n      <td>[24635.354]</td>\n      <td>[31579.217]</td>\n      <td>...</td>\n      <td>[1777.0]</td>\n      <td>[-0.7199793]</td>\n      <td>[-1.8012636]</td>\n      <td>[23008.834]</td>\n      <td>[1777.0]</td>\n      <td>[True]</td>\n      <td>-8313.356445</td>\n      <td>38005.554688</td>\n      <td>38904.167969</td>\n      <td>1.786145</td>\n    </tr>\n    <tr>\n      <th>3</th>\n      <td>5263136.0</td>\n      <td>308047</td>\n      <td>557296</td>\n      <td>12</td>\n      <td>True</td>\n      <td>True</td>\n      <td>[-0.529145]</td>\n      <td>[-2.4099522]</td>\n      <td>[34420.023]</td>\n      <td>[39352.22]</td>\n      <td>...</td>\n      <td>[1777.0]</td>\n      <td>[-0.5263215]</td>\n      <td>[-2.4077308]</td>\n      <td>[33767.562]</td>\n      <td>[1777.0]</td>\n      <td>[True]</td>\n      <td>-17014.312500</td>\n      <td>-38545.277344</td>\n      <td>42133.421875</td>\n      <td>-1.986485</td>\n    </tr>\n    <tr>\n      <th>4</th>\n      <td>43274236.0</td>\n      <td>307935</td>\n      <td>556459</td>\n      <td>18</td>\n      <td>True</td>\n      <td>True</td>\n      <td>[-0.90045965]</td>\n      <td>[2.42088]</td>\n      <td>[42738.984]</td>\n      <td>[61268.83]</td>\n      <td>...</td>\n      <td>[1777.0]</td>\n      <td>[-0.90044683]</td>\n      <td>[2.4221358]</td>\n      <td>[42185.3]</td>\n      <td>[1777.0]</td>\n      <td>[True]</td>\n      <td>-31137.955078</td>\n      <td>-28185.619141</td>\n      <td>42000.015625</td>\n      <td>-2.405920</td>\n    </tr>\n    <tr>\n      <th>...</th>\n      <td>...</td>\n      <td>...</td>\n      <td>...</td>\n      <td>...</td>\n      <td>...</td>\n      <td>...</td>\n      <td>...</td>\n      <td>...</td>\n      <td>...</td>\n      <td>...</td>\n      <td>...</td>\n      <td>...</td>\n      <td>...</td>\n      <td>...</td>\n      <td>...</td>\n      <td>...</td>\n      <td>...</td>\n      <td>...</td>\n      <td>...</td>\n      <td>...</td>\n      <td>...</td>\n    </tr>\n    <tr>\n      <th>9146</th>\n      <td>30692056.0</td>\n      <td>309759</td>\n      <td>582549</td>\n      <td>17</td>\n      <td>True</td>\n      <td>True</td>\n      <td>[-0.13473205]</td>\n      <td>[-0.54347754]</td>\n      <td>[70074.29]</td>\n      <td>[70711.27]</td>\n      <td>...</td>\n      <td>[1777.0]</td>\n      <td>[-0.13472795]</td>\n      <td>[-0.54335463]</td>\n      <td>[69399.555]</td>\n      <td>[1777.0]</td>\n      <td>[True]</td>\n      <td>28231.546875</td>\n      <td>-43072.949219</td>\n      <td>51500.476562</td>\n      <td>-0.990609</td>\n    </tr>\n    <tr>\n      <th>9147</th>\n      <td>4040004.5</td>\n      <td>280977</td>\n      <td>636290</td>\n      <td>11</td>\n      <td>True</td>\n      <td>False</td>\n      <td>[]</td>\n      <td>[]</td>\n      <td>[]</td>\n      <td>[]</td>\n      <td>...</td>\n      <td>[1777.0]</td>\n      <td>[0.9883538]</td>\n      <td>[2.9204404]</td>\n      <td>[35454.15]</td>\n      <td>[1777.0]</td>\n      <td>[True]</td>\n      <td>24393.613281</td>\n      <td>-23741.183594</td>\n      <td>34039.566406</td>\n      <td>-0.771845</td>\n    </tr>\n    <tr>\n      <th>9148</th>\n      <td>-4881536.5</td>\n      <td>308084</td>\n      <td>582410</td>\n      <td>12</td>\n      <td>True</td>\n      <td>True</td>\n      <td>[-0.7504387]</td>\n      <td>[-0.491165]</td>\n      <td>[44057.32]</td>\n      <td>[57056.176]</td>\n      <td>...</td>\n      <td>[1777.0]</td>\n      <td>[-0.76293766]</td>\n      <td>[-0.48876056]</td>\n      <td>[43294.34]</td>\n      <td>[1777.0]</td>\n      <td>[True]</td>\n      <td>116225.898438</td>\n      <td>-72796.164062</td>\n      <td>137141.312500</td>\n      <td>-0.559558</td>\n    </tr>\n    <tr>\n      <th>9149</th>\n      <td>868029952.0</td>\n      <td>304128</td>\n      <td>582104</td>\n      <td>14</td>\n      <td>True</td>\n      <td>False</td>\n      <td>[]</td>\n      <td>[]</td>\n      <td>[]</td>\n      <td>[]</td>\n      <td>...</td>\n      <td>[1777.0]</td>\n      <td>[2.2029648]</td>\n      <td>[2.5186114]</td>\n      <td>[32536.69]</td>\n      <td>[1777.0]</td>\n      <td>[True]</td>\n      <td>-5797.165039</td>\n      <td>-9549.891602</td>\n      <td>11171.730469</td>\n      <td>-2.116376</td>\n    </tr>\n    <tr>\n      <th>9150</th>\n      <td>-1795006.0</td>\n      <td>307539</td>\n      <td>636089</td>\n      <td>23</td>\n      <td>True</td>\n      <td>False</td>\n      <td>[0.4112192]</td>\n      <td>[-2.1208568]</td>\n      <td>[21670.832]</td>\n      <td>[23529.08]</td>\n      <td>...</td>\n      <td>[1777.0]</td>\n      <td>[0.40353733]</td>\n      <td>[-2.1046002]</td>\n      <td>[20092.137]</td>\n      <td>[1777.0]</td>\n      <td>[True]</td>\n      <td>36216.789062</td>\n      <td>-55844.144531</td>\n      <td>66559.929688</td>\n      <td>-0.995453</td>\n    </tr>\n  </tbody>\n</table>\n<p>9151 rows × 52 columns</p>\n</div>"
     },
     "execution_count": 15,
     "metadata": {},
     "output_type": "execute_result"
    }
   ],
   "source": [
    "df2 = pd.DataFrame(uproot.concatenate(f'{filepath}:{treename}', expressions=wanted_cols, library='np'))\n",
    "df2"
   ],
   "metadata": {
    "collapsed": false,
    "pycharm": {
     "name": "#%%\n"
    }
   }
  },
  {
   "cell_type": "code",
   "execution_count": 19,
   "outputs": [
    {
     "name": "stdout",
     "output_type": "stream",
     "text": [
      "232 ms ± 10.3 ms per loop (mean ± std. dev. of 7 runs, 1 loop each)\n"
     ]
    }
   ],
   "source": [
    "%%timeit\n",
    "df = awkward.to_pandas(uproot.concatenate(f'{filepath}:{treename}', expressions=wanted_cols))"
   ],
   "metadata": {
    "collapsed": false,
    "pycharm": {
     "name": "#%%\n"
    }
   }
  },
  {
   "cell_type": "code",
   "execution_count": 20,
   "outputs": [
    {
     "data": {
      "text/plain": "Empty DataFrame\nColumns: [mcWeight, runNumber, eventNumber, nVtx, passTruth, passReco, TauEta, TauPhi, TauPt, TauE, JetEta, JetPhi, JetE, Jet_btag, MuonEta, MuonPhi, MuonPt, MuonE, Muon_d0sig, Muon_delta_z0, PhotonEta, PhotonPhi, PhotonPt, PhotonE, TruthJetE, TruthJetPhi, TruthJetPt, TruthNeutrinoEta, TruthNeutrinoPhi, TruthNeutrinoPt, TruthNeutrinoE, TruthMuonEta, TruthMuonPhi, TruthMuonPt, TruthMuonE, TruthEleEta, TruthElePhi, TruthElePt, TruthEleE, TruthTauEta, TruthTauPhi, TruthTauPt, TruthTauM, VisTruthTauEta, VisTruthTauPhi, VisTruthTauPt, VisTruthTauM, TruthTau_isHadronic, MET_etx, MET_ety, MET_met, MET_phi]\nIndex: []\n\n[0 rows x 52 columns]",
      "text/html": "<div>\n<style scoped>\n    .dataframe tbody tr th:only-of-type {\n        vertical-align: middle;\n    }\n\n    .dataframe tbody tr th {\n        vertical-align: top;\n    }\n\n    .dataframe thead th {\n        text-align: right;\n    }\n</style>\n<table border=\"1\" class=\"dataframe\">\n  <thead>\n    <tr style=\"text-align: right;\">\n      <th></th>\n      <th></th>\n      <th>mcWeight</th>\n      <th>runNumber</th>\n      <th>eventNumber</th>\n      <th>nVtx</th>\n      <th>passTruth</th>\n      <th>passReco</th>\n      <th>TauEta</th>\n      <th>TauPhi</th>\n      <th>TauPt</th>\n      <th>TauE</th>\n      <th>...</th>\n      <th>TruthTauM</th>\n      <th>VisTruthTauEta</th>\n      <th>VisTruthTauPhi</th>\n      <th>VisTruthTauPt</th>\n      <th>VisTruthTauM</th>\n      <th>TruthTau_isHadronic</th>\n      <th>MET_etx</th>\n      <th>MET_ety</th>\n      <th>MET_met</th>\n      <th>MET_phi</th>\n    </tr>\n    <tr>\n      <th>entry</th>\n      <th>subentry</th>\n      <th></th>\n      <th></th>\n      <th></th>\n      <th></th>\n      <th></th>\n      <th></th>\n      <th></th>\n      <th></th>\n      <th></th>\n      <th></th>\n      <th></th>\n      <th></th>\n      <th></th>\n      <th></th>\n      <th></th>\n      <th></th>\n      <th></th>\n      <th></th>\n      <th></th>\n      <th></th>\n      <th></th>\n    </tr>\n  </thead>\n  <tbody>\n  </tbody>\n</table>\n<p>0 rows × 52 columns</p>\n</div>"
     },
     "execution_count": 20,
     "metadata": {},
     "output_type": "execute_result"
    }
   ],
   "source": [
    "df3 = awkward.to_pandas(uproot.concatenate(f'{filepath}:{treename}', expressions=wanted_cols))\n",
    "df3"
   ],
   "metadata": {
    "collapsed": false,
    "pycharm": {
     "name": "#%%\n"
    }
   }
  },
  {
   "cell_type": "markdown",
   "source": [
    "## Attempt with RDataFrame"
   ],
   "metadata": {
    "collapsed": false
   }
  },
  {
   "cell_type": "code",
   "execution_count": 13,
   "outputs": [],
   "source": [
    "Rdf = ROOT.RDataFrame(treename, filepath)\n",
    "Rdf = Rdf.Filter(\"(passTruth == true) & (passReco & true)\")"
   ],
   "metadata": {
    "collapsed": false,
    "pycharm": {
     "name": "#%%\n"
    }
   }
  },
  {
   "cell_type": "code",
   "execution_count": 14,
   "outputs": [
    {
     "name": "stdout",
     "output_type": "stream",
     "text": [
      "EleCharge ROOT::VecOps::RVec<float>\n",
      "EleE ROOT::VecOps::RVec<float>\n",
      "EleEta ROOT::VecOps::RVec<float>\n",
      "ElePhi ROOT::VecOps::RVec<float>\n",
      "ElePt ROOT::VecOps::RVec<float>\n",
      "Ele_d0sig ROOT::VecOps::RVec<double>\n",
      "Ele_delta_z0 ROOT::VecOps::RVec<float>\n",
      "Ele_idSF ROOT::VecOps::RVec<float>\n",
      "Ele_isoSF ROOT::VecOps::RVec<float>\n",
      "Ele_recoSF ROOT::VecOps::RVec<float>\n",
      "FJVT_SF Float_t\n",
      "JVT_SF Float_t\n",
      "JetE ROOT::VecOps::RVec<float>\n",
      "JetEta ROOT::VecOps::RVec<float>\n",
      "JetPhi ROOT::VecOps::RVec<float>\n",
      "JetPt ROOT::VecOps::RVec<float>\n",
      "Jet_JVT ROOT::VecOps::RVec<float>\n",
      "Jet_btSF ROOT::VecOps::RVec<float>\n",
      "Jet_btag ROOT::VecOps::RVec<bool>\n",
      "MET_etx Float_t\n",
      "MET_ety Float_t\n",
      "MET_met Float_t\n",
      "MET_phi Float_t\n",
      "MuonCharge ROOT::VecOps::RVec<float>\n",
      "MuonE ROOT::VecOps::RVec<float>\n",
      "MuonEta ROOT::VecOps::RVec<float>\n",
      "MuonPhi ROOT::VecOps::RVec<float>\n",
      "MuonPt ROOT::VecOps::RVec<float>\n",
      "Muon_d0sig ROOT::VecOps::RVec<double>\n",
      "Muon_delta_z0 ROOT::VecOps::RVec<float>\n",
      "Muon_isoSF ROOT::VecOps::RVec<float>\n",
      "Muon_recoSF ROOT::VecOps::RVec<float>\n",
      "Muon_ttvaSF ROOT::VecOps::RVec<float>\n",
      "PassedTriggersHH ROOT::VecOps::RVec<string>\n",
      "PassedTriggersLH ROOT::VecOps::RVec<string>\n",
      "PhotonE ROOT::VecOps::RVec<float>\n",
      "PhotonEta ROOT::VecOps::RVec<float>\n",
      "PhotonPhi ROOT::VecOps::RVec<float>\n",
      "PhotonPt ROOT::VecOps::RVec<float>\n",
      "TauBDTEleScore ROOT::VecOps::RVec<float>\n",
      "TauBDTJetScore ROOT::VecOps::RVec<float>\n",
      "TauCharge ROOT::VecOps::RVec<float>\n",
      "TauE ROOT::VecOps::RVec<float>\n",
      "TauEta ROOT::VecOps::RVec<float>\n",
      "TauLooseWP ROOT::VecOps::RVec<bool>\n",
      "TauMediumWP ROOT::VecOps::RVec<bool>\n",
      "TauNCoreTracks ROOT::VecOps::RVec<int>\n",
      "TauPhi ROOT::VecOps::RVec<float>\n",
      "TauPt ROOT::VecOps::RVec<float>\n",
      "TauRNNJetScore ROOT::VecOps::RVec<float>\n",
      "TauSF_LooseWP ROOT::VecOps::RVec<float>\n",
      "TauSF_MediumWP ROOT::VecOps::RVec<float>\n",
      "TauSF_TightWP ROOT::VecOps::RVec<float>\n",
      "TauTightWP ROOT::VecOps::RVec<bool>\n",
      "TauTrackWidthPt1000PV ROOT::VecOps::RVec<float>\n",
      "TauTrackWidthPt1000TV ROOT::VecOps::RVec<float>\n",
      "TauTrackWidthPt500PV ROOT::VecOps::RVec<float>\n",
      "TauTrackWidthPt500TV ROOT::VecOps::RVec<float>\n",
      "TruthEleCharge ROOT::VecOps::RVec<float>\n",
      "TruthEleE ROOT::VecOps::RVec<float>\n",
      "TruthEleEta ROOT::VecOps::RVec<float>\n",
      "TruthElePhi ROOT::VecOps::RVec<float>\n",
      "TruthElePt ROOT::VecOps::RVec<float>\n",
      "TruthJetE ROOT::VecOps::RVec<float>\n",
      "TruthJetEta ROOT::VecOps::RVec<float>\n",
      "TruthJetPhi ROOT::VecOps::RVec<float>\n",
      "TruthJetPt ROOT::VecOps::RVec<float>\n",
      "TruthMuonCharge ROOT::VecOps::RVec<float>\n",
      "TruthMuonE ROOT::VecOps::RVec<float>\n",
      "TruthMuonEta ROOT::VecOps::RVec<float>\n",
      "TruthMuonPhi ROOT::VecOps::RVec<float>\n",
      "TruthMuonPt ROOT::VecOps::RVec<float>\n",
      "TruthNeutrinoCharge ROOT::VecOps::RVec<float>\n",
      "TruthNeutrinoE ROOT::VecOps::RVec<float>\n",
      "TruthNeutrinoEta ROOT::VecOps::RVec<float>\n",
      "TruthNeutrinoPhi ROOT::VecOps::RVec<float>\n",
      "TruthNeutrinoPt ROOT::VecOps::RVec<float>\n",
      "TruthTauCharge ROOT::VecOps::RVec<float>\n",
      "TruthTauEta ROOT::VecOps::RVec<float>\n",
      "TruthTauM ROOT::VecOps::RVec<float>\n",
      "TruthTauPhi ROOT::VecOps::RVec<float>\n",
      "TruthTauPt ROOT::VecOps::RVec<float>\n",
      "TruthTau_decay_mode ROOT::VecOps::RVec<int>\n",
      "TruthTau_isHadronic ROOT::VecOps::RVec<bool>\n",
      "VisTruthTauEta ROOT::VecOps::RVec<float>\n",
      "VisTruthTauM ROOT::VecOps::RVec<float>\n",
      "VisTruthTauPhi ROOT::VecOps::RVec<float>\n",
      "VisTruthTauPt ROOT::VecOps::RVec<float>\n",
      "eventNumber UInt_t\n",
      "mcChannel UInt_t\n",
      "mcWeight Float_t\n",
      "nVtx Int_t\n",
      "passReco Bool_t\n",
      "passTrigger_HH Bool_t\n",
      "passTrigger_LH Bool_t\n",
      "passTruth Bool_t\n",
      "prwWeight Float_t\n",
      "runNumber UInt_t\n",
      "rwCorr Float_t\n",
      "weight Float_t\n"
     ]
    }
   ],
   "source": [
    "for i, col_name in enumerate(list(Rdf.GetColumnNames())):\n",
    "\tprint(col_name, Rdf.GetColumnType(col_name))"
   ],
   "metadata": {
    "collapsed": false,
    "pycharm": {
     "name": "#%%\n"
    }
   }
  },
  {
   "cell_type": "code",
   "execution_count": 15,
   "outputs": [
    {
     "data": {
      "text/plain": "False"
     },
     "execution_count": 15,
     "metadata": {},
     "output_type": "execute_result"
    },
    {
     "name": "stderr",
     "output_type": "stream",
     "text": [
      "input_line_170:2:7: error: redefinition of 'getval'\n",
      "float getval(ROOT::VecOps::RVec<float> x, int i) {\n",
      "      ^\n",
      "input_line_91:2:7: note: previous definition is here\n",
      "float getval(ROOT::VecOps::RVec<float> x, int i) {\n",
      "      ^\n"
     ]
    }
   ],
   "source": [
    "ROOT.gInterpreter.Declare(\"\"\"\n",
    "float getval(ROOT::VecOps::RVec<float> x, int i) {\n",
    "    if (x.size() > 0)  return x[i];\n",
    "    else               return NAN;\n",
    "}\n",
    "\"\"\")"
   ],
   "metadata": {
    "collapsed": false,
    "pycharm": {
     "name": "#%%\n"
    }
   }
  },
  {
   "cell_type": "code",
   "execution_count": 18,
   "outputs": [],
   "source": [
    "for i in range(3):\n",
    "\tRdf = Rdf.Define(f\"JetE{i+1}\", f\"getval(JetE,{i})\")\n",
    "\n",
    "JetE_df = Rdf.AsNumpy(columns=['JetE1', 'JetE2', 'JetE3'])"
   ],
   "metadata": {
    "collapsed": false,
    "pycharm": {
     "name": "#%%\n"
    }
   }
  },
  {
   "cell_type": "code",
   "execution_count": 20,
   "outputs": [
    {
     "data": {
      "text/plain": "                JetE1          JetE2          JetE3\n0        0.000000e+00       0.000000       0.000000\n1        3.445975e+05  781563.250000  329452.156250\n2        1.718167e+05       0.000000       0.000000\n3        7.766764e+05   72515.257812       0.000000\n4        5.905807e+05  369481.500000       0.000000\n...               ...            ...            ...\n4512573  6.822383e+04       0.000000       0.000000\n4512574  8.447010e+04   33782.210938       0.000000\n4512575  0.000000e+00       0.000000       0.000000\n4512576  7.871589e+04       0.000000       0.000000\n4512577  1.112563e+06   92258.960938   58051.144531\n\n[4512578 rows x 3 columns]",
      "text/html": "<div>\n<style scoped>\n    .dataframe tbody tr th:only-of-type {\n        vertical-align: middle;\n    }\n\n    .dataframe tbody tr th {\n        vertical-align: top;\n    }\n\n    .dataframe thead th {\n        text-align: right;\n    }\n</style>\n<table border=\"1\" class=\"dataframe\">\n  <thead>\n    <tr style=\"text-align: right;\">\n      <th></th>\n      <th>JetE1</th>\n      <th>JetE2</th>\n      <th>JetE3</th>\n    </tr>\n  </thead>\n  <tbody>\n    <tr>\n      <th>0</th>\n      <td>0.000000e+00</td>\n      <td>0.000000</td>\n      <td>0.000000</td>\n    </tr>\n    <tr>\n      <th>1</th>\n      <td>3.445975e+05</td>\n      <td>781563.250000</td>\n      <td>329452.156250</td>\n    </tr>\n    <tr>\n      <th>2</th>\n      <td>1.718167e+05</td>\n      <td>0.000000</td>\n      <td>0.000000</td>\n    </tr>\n    <tr>\n      <th>3</th>\n      <td>7.766764e+05</td>\n      <td>72515.257812</td>\n      <td>0.000000</td>\n    </tr>\n    <tr>\n      <th>4</th>\n      <td>5.905807e+05</td>\n      <td>369481.500000</td>\n      <td>0.000000</td>\n    </tr>\n    <tr>\n      <th>...</th>\n      <td>...</td>\n      <td>...</td>\n      <td>...</td>\n    </tr>\n    <tr>\n      <th>4512573</th>\n      <td>6.822383e+04</td>\n      <td>0.000000</td>\n      <td>0.000000</td>\n    </tr>\n    <tr>\n      <th>4512574</th>\n      <td>8.447010e+04</td>\n      <td>33782.210938</td>\n      <td>0.000000</td>\n    </tr>\n    <tr>\n      <th>4512575</th>\n      <td>0.000000e+00</td>\n      <td>0.000000</td>\n      <td>0.000000</td>\n    </tr>\n    <tr>\n      <th>4512576</th>\n      <td>7.871589e+04</td>\n      <td>0.000000</td>\n      <td>0.000000</td>\n    </tr>\n    <tr>\n      <th>4512577</th>\n      <td>1.112563e+06</td>\n      <td>92258.960938</td>\n      <td>58051.144531</td>\n    </tr>\n  </tbody>\n</table>\n<p>4512578 rows × 3 columns</p>\n</div>"
     },
     "execution_count": 20,
     "metadata": {},
     "output_type": "execute_result"
    }
   ],
   "source": [
    "JetE_df = pd.DataFrame(JetE_df)\n",
    "JetE_df"
   ],
   "metadata": {
    "collapsed": false,
    "pycharm": {
     "name": "#%%\n"
    }
   }
  },
  {
   "cell_type": "code",
   "execution_count": 8,
   "outputs": [
    {
     "data": {
      "text/plain": "Dataframe from TChain T_s1thv_NOMINAL in files\n  /mnt/D/data/DTA_outputs/user.kghorban.Sh_2211_Wtaunu_H_maxHTpTV2_CVetoBVeto.MC16a.v1.2022-04-01_histograms.root/user.kghorban.28586646._000001.histograms.root\n  /mnt/D/data/DTA_outputs/user.kghorban.Sh_2211_Wtaunu_H_maxHTpTV2_CVetoBVeto.MC16a.v1.2022-04-01_histograms.root/user.kghorban.28586646._000002.histograms.root\n  /mnt/D/data/DTA_outputs/user.kghorban.Sh_2211_Wtaunu_H_maxHTpTV2_CVetoBVeto.MC16a.v1.2022-04-01_histograms.root/user.kghorban.28586646._000003.histograms.root\n  /mnt/D/data/DTA_outputs/user.kghorban.Sh_2211_Wtaunu_H_maxHTpTV2_CVetoBVeto.MC16a.v1.2022-04-01_histograms.root/user.kghorban.28586646._000004.histograms.root\n  /mnt/D/data/DTA_outputs/user.kghorban.Sh_2211_Wtaunu_H_maxHTpTV2_CVetoBVeto.MC16a.v1.2022-04-01_histograms.root/user.kghorban.28586646._000005.histograms.root\n  /mnt/D/data/DTA_outputs/user.kghorban.Sh_2211_Wtaunu_H_maxHTpTV2_CVetoBVeto.MC16a.v1.2022-04-01_histograms.root/user.kghorban.28586646._000006.histograms.root\n  /mnt/D/data/DTA_outputs/user.kghorban.Sh_2211_Wtaunu_H_maxHTpTV2_CVetoBVeto.MC16a.v1.2022-04-01_histograms.root/user.kghorban.28586646._000007.histograms.root\n\nProperty                Value\n--------                -----\nColumns in total          100\nColumns from defines        0\nEvent loops run             0\nProcessing slots           24\n\nColumn                  Type                            Origin\n------                  ----                            ------\nEleCharge               ROOT::VecOps::RVec<float>       Dataset\nEleE                    ROOT::VecOps::RVec<float>       Dataset\nEleEta                  ROOT::VecOps::RVec<float>       Dataset\nElePhi                  ROOT::VecOps::RVec<float>       Dataset\nElePt                   ROOT::VecOps::RVec<float>       Dataset\nEle_d0sig               ROOT::VecOps::RVec<double>      Dataset\nEle_delta_z0            ROOT::VecOps::RVec<float>       Dataset\nEle_idSF                ROOT::VecOps::RVec<float>       Dataset\nEle_isoSF               ROOT::VecOps::RVec<float>       Dataset\nEle_recoSF              ROOT::VecOps::RVec<float>       Dataset\nFJVT_SF                 Float_t                         Dataset\nJVT_SF                  Float_t                         Dataset\nJetE                    ROOT::VecOps::RVec<float>       Dataset\nJetEta                  ROOT::VecOps::RVec<float>       Dataset\nJetPhi                  ROOT::VecOps::RVec<float>       Dataset\nJetPt                   ROOT::VecOps::RVec<float>       Dataset\nJet_JVT                 ROOT::VecOps::RVec<float>       Dataset\nJet_btSF                ROOT::VecOps::RVec<float>       Dataset\nJet_btag                ROOT::VecOps::RVec<bool>        Dataset\nMET_etx                 Float_t                         Dataset\nMET_ety                 Float_t                         Dataset\nMET_met                 Float_t                         Dataset\nMET_phi                 Float_t                         Dataset\nMuonCharge              ROOT::VecOps::RVec<float>       Dataset\nMuonE                   ROOT::VecOps::RVec<float>       Dataset\nMuonEta                 ROOT::VecOps::RVec<float>       Dataset\nMuonPhi                 ROOT::VecOps::RVec<float>       Dataset\nMuonPt                  ROOT::VecOps::RVec<float>       Dataset\nMuon_d0sig              ROOT::VecOps::RVec<double>      Dataset\nMuon_delta_z0           ROOT::VecOps::RVec<float>       Dataset\nMuon_isoSF              ROOT::VecOps::RVec<float>       Dataset\nMuon_recoSF             ROOT::VecOps::RVec<float>       Dataset\nMuon_ttvaSF             ROOT::VecOps::RVec<float>       Dataset\nPassedTriggersHH        ROOT::VecOps::RVec<string>      Dataset\nPassedTriggersLH        ROOT::VecOps::RVec<string>      Dataset\nPhotonE                 ROOT::VecOps::RVec<float>       Dataset\nPhotonEta               ROOT::VecOps::RVec<float>       Dataset\nPhotonPhi               ROOT::VecOps::RVec<float>       Dataset\nPhotonPt                ROOT::VecOps::RVec<float>       Dataset\nTauBDTEleScore          ROOT::VecOps::RVec<float>       Dataset\nTauBDTJetScore          ROOT::VecOps::RVec<float>       Dataset\nTauCharge               ROOT::VecOps::RVec<float>       Dataset\nTauE                    ROOT::VecOps::RVec<float>       Dataset\nTauEta                  ROOT::VecOps::RVec<float>       Dataset\nTauLooseWP              ROOT::VecOps::RVec<bool>        Dataset\nTauMediumWP             ROOT::VecOps::RVec<bool>        Dataset\nTauNCoreTracks          ROOT::VecOps::RVec<int>         Dataset\nTauPhi                  ROOT::VecOps::RVec<float>       Dataset\nTauPt                   ROOT::VecOps::RVec<float>       Dataset\nTauRNNJetScore          ROOT::VecOps::RVec<float>       Dataset\nTauSF_LooseWP           ROOT::VecOps::RVec<float>       Dataset\nTauSF_MediumWP          ROOT::VecOps::RVec<float>       Dataset\nTauSF_TightWP           ROOT::VecOps::RVec<float>       Dataset\nTauTightWP              ROOT::VecOps::RVec<bool>        Dataset\nTauTrackWidthPt1000PV   ROOT::VecOps::RVec<float>       Dataset\nTauTrackWidthPt1000TV   ROOT::VecOps::RVec<float>       Dataset\nTauTrackWidthPt500PV    ROOT::VecOps::RVec<float>       Dataset\nTauTrackWidthPt500TV    ROOT::VecOps::RVec<float>       Dataset\nTruthEleCharge          ROOT::VecOps::RVec<float>       Dataset\nTruthEleE               ROOT::VecOps::RVec<float>       Dataset\nTruthEleEta             ROOT::VecOps::RVec<float>       Dataset\nTruthElePhi             ROOT::VecOps::RVec<float>       Dataset\nTruthElePt              ROOT::VecOps::RVec<float>       Dataset\nTruthJetE               ROOT::VecOps::RVec<float>       Dataset\nTruthJetEta             ROOT::VecOps::RVec<float>       Dataset\nTruthJetPhi             ROOT::VecOps::RVec<float>       Dataset\nTruthJetPt              ROOT::VecOps::RVec<float>       Dataset\nTruthMuonCharge         ROOT::VecOps::RVec<float>       Dataset\nTruthMuonE              ROOT::VecOps::RVec<float>       Dataset\nTruthMuonEta            ROOT::VecOps::RVec<float>       Dataset\nTruthMuonPhi            ROOT::VecOps::RVec<float>       Dataset\nTruthMuonPt             ROOT::VecOps::RVec<float>       Dataset\nTruthNeutrinoCharge     ROOT::VecOps::RVec<float>       Dataset\nTruthNeutrinoE          ROOT::VecOps::RVec<float>       Dataset\nTruthNeutrinoEta        ROOT::VecOps::RVec<float>       Dataset\nTruthNeutrinoPhi        ROOT::VecOps::RVec<float>       Dataset\nTruthNeutrinoPt         ROOT::VecOps::RVec<float>       Dataset\nTruthTauCharge          ROOT::VecOps::RVec<float>       Dataset\nTruthTauEta             ROOT::VecOps::RVec<float>       Dataset\nTruthTauM               ROOT::VecOps::RVec<float>       Dataset\nTruthTauPhi             ROOT::VecOps::RVec<float>       Dataset\nTruthTauPt              ROOT::VecOps::RVec<float>       Dataset\nTruthTau_decay_mode     ROOT::VecOps::RVec<int>         Dataset\nTruthTau_isHadronic     ROOT::VecOps::RVec<bool>        Dataset\nVisTruthTauEta          ROOT::VecOps::RVec<float>       Dataset\nVisTruthTauM            ROOT::VecOps::RVec<float>       Dataset\nVisTruthTauPhi          ROOT::VecOps::RVec<float>       Dataset\nVisTruthTauPt           ROOT::VecOps::RVec<float>       Dataset\neventNumber             UInt_t                          Dataset\nmcChannel               UInt_t                          Dataset\nmcWeight                Float_t                         Dataset\nnVtx                    Int_t                           Dataset\npassReco                Bool_t                          Dataset\npassTrigger_HH          Bool_t                          Dataset\npassTrigger_LH          Bool_t                          Dataset\npassTruth               Bool_t                          Dataset\nprwWeight               Float_t                         Dataset\nrunNumber               UInt_t                          Dataset\nrwCorr                  Float_t                         Dataset\nweight                  Float_t                         Dataset"
     },
     "execution_count": 8,
     "metadata": {},
     "output_type": "execute_result"
    }
   ],
   "source": [
    "Rdf.Describe()"
   ],
   "metadata": {
    "collapsed": false,
    "pycharm": {
     "name": "#%%\n"
    }
   }
  },
  {
   "cell_type": "code",
   "execution_count": 7,
   "outputs": [],
   "source": [
    "df = pd.DataFrame(Rdf.AsNumpy())"
   ],
   "metadata": {
    "collapsed": false,
    "pycharm": {
     "name": "#%%\n"
    }
   }
  },
  {
   "cell_type": "code",
   "execution_count": 31,
   "outputs": [
    {
     "name": "stdout",
     "output_type": "stream",
     "text": [
      "<class 'pandas.core.frame.DataFrame'>\n",
      "RangeIndex: 9151 entries, 0 to 9150\n",
      "Data columns (total 100 columns):\n",
      " #   Column                 Non-Null Count  Dtype  \n",
      "---  ------                 --------------  -----  \n",
      " 0   mcWeight               9151 non-null   float32\n",
      " 1   rwCorr                 9151 non-null   float32\n",
      " 2   prwWeight              9151 non-null   float32\n",
      " 3   weight                 9150 non-null   float32\n",
      " 4   runNumber              9151 non-null   uint32 \n",
      " 5   mcChannel              9151 non-null   uint32 \n",
      " 6   eventNumber            9151 non-null   uint32 \n",
      " 7   nVtx                   9151 non-null   int32  \n",
      " 8   passTruth              9151 non-null   object \n",
      " 9   passReco               9151 non-null   object \n",
      " 10  passTrigger_LH         9151 non-null   object \n",
      " 11  passTrigger_HH         9151 non-null   object \n",
      " 12  TauEta                 9151 non-null   object \n",
      " 13  TauPhi                 9151 non-null   object \n",
      " 14  TauPt                  9151 non-null   object \n",
      " 15  TauE                   9151 non-null   object \n",
      " 16  TauNCoreTracks         9151 non-null   object \n",
      " 17  TauCharge              9151 non-null   object \n",
      " 18  TauBDTEleScore         9151 non-null   object \n",
      " 19  TauBDTJetScore         9151 non-null   object \n",
      " 20  TauRNNJetScore         9151 non-null   object \n",
      " 21  TauLooseWP             9151 non-null   object \n",
      " 22  TauMediumWP            9151 non-null   object \n",
      " 23  TauTightWP             9151 non-null   object \n",
      " 24  TauSF_LooseWP          9151 non-null   object \n",
      " 25  TauSF_MediumWP         9151 non-null   object \n",
      " 26  TauSF_TightWP          9151 non-null   object \n",
      " 27  TauTrackWidthPt1000PV  9151 non-null   object \n",
      " 28  TauTrackWidthPt500PV   9151 non-null   object \n",
      " 29  TauTrackWidthPt1000TV  9151 non-null   object \n",
      " 30  TauTrackWidthPt500TV   9151 non-null   object \n",
      " 31  JetEta                 9151 non-null   object \n",
      " 32  JetPhi                 9151 non-null   object \n",
      " 33  JetPt                  9151 non-null   object \n",
      " 34  JetE                   9151 non-null   object \n",
      " 35  Jet_btag               9151 non-null   object \n",
      " 36  Jet_btSF               9151 non-null   object \n",
      " 37  Jet_JVT                9151 non-null   object \n",
      " 38  JVT_SF                 9151 non-null   float32\n",
      " 39  FJVT_SF                9151 non-null   float32\n",
      " 40  MuonEta                9151 non-null   object \n",
      " 41  MuonPhi                9151 non-null   object \n",
      " 42  MuonPt                 9151 non-null   object \n",
      " 43  MuonE                  9151 non-null   object \n",
      " 44  MuonCharge             9151 non-null   object \n",
      " 45  Muon_d0sig             9151 non-null   object \n",
      " 46  Muon_delta_z0          9151 non-null   object \n",
      " 47  Muon_recoSF            9151 non-null   object \n",
      " 48  Muon_isoSF             9151 non-null   object \n",
      " 49  Muon_ttvaSF            9151 non-null   object \n",
      " 50  EleEta                 9151 non-null   object \n",
      " 51  ElePhi                 9151 non-null   object \n",
      " 52  ElePt                  9151 non-null   object \n",
      " 53  EleE                   9151 non-null   object \n",
      " 54  EleCharge              9151 non-null   object \n",
      " 55  Ele_d0sig              9151 non-null   object \n",
      " 56  Ele_delta_z0           9151 non-null   object \n",
      " 57  Ele_recoSF             9151 non-null   object \n",
      " 58  Ele_idSF               9151 non-null   object \n",
      " 59  Ele_isoSF              9151 non-null   object \n",
      " 60  PhotonEta              9151 non-null   object \n",
      " 61  PhotonPhi              9151 non-null   object \n",
      " 62  PhotonPt               9151 non-null   object \n",
      " 63  PhotonE                9151 non-null   object \n",
      " 64  TruthJetEta            9151 non-null   object \n",
      " 65  TruthJetPhi            9151 non-null   object \n",
      " 66  TruthJetPt             9151 non-null   object \n",
      " 67  TruthJetE              9151 non-null   object \n",
      " 68  TruthNeutrinoEta       9151 non-null   object \n",
      " 69  TruthNeutrinoPhi       9151 non-null   object \n",
      " 70  TruthNeutrinoPt        9151 non-null   object \n",
      " 71  TruthNeutrinoE         9151 non-null   object \n",
      " 72  TruthNeutrinoCharge    9151 non-null   object \n",
      " 73  TruthMuonEta           9151 non-null   object \n",
      " 74  TruthMuonPhi           9151 non-null   object \n",
      " 75  TruthMuonPt            9151 non-null   object \n",
      " 76  TruthMuonE             9151 non-null   object \n",
      " 77  TruthMuonCharge        9151 non-null   object \n",
      " 78  TruthEleEta            9151 non-null   object \n",
      " 79  TruthElePhi            9151 non-null   object \n",
      " 80  TruthElePt             9151 non-null   object \n",
      " 81  TruthEleE              9151 non-null   object \n",
      " 82  TruthEleCharge         9151 non-null   object \n",
      " 83  TruthTauEta            9151 non-null   object \n",
      " 84  TruthTauPhi            9151 non-null   object \n",
      " 85  TruthTauPt             9151 non-null   object \n",
      " 86  TruthTauM              9151 non-null   object \n",
      " 87  VisTruthTauEta         9151 non-null   object \n",
      " 88  VisTruthTauPhi         9151 non-null   object \n",
      " 89  VisTruthTauPt          9151 non-null   object \n",
      " 90  VisTruthTauM           9151 non-null   object \n",
      " 91  TruthTauCharge         9151 non-null   object \n",
      " 92  TruthTau_isHadronic    9151 non-null   object \n",
      " 93  TruthTau_decay_mode    9151 non-null   object \n",
      " 94  MET_etx                9151 non-null   float32\n",
      " 95  MET_ety                9151 non-null   float32\n",
      " 96  MET_met                9151 non-null   float32\n",
      " 97  MET_phi                9151 non-null   float32\n",
      " 98  PassedTriggersHH       9151 non-null   object \n",
      " 99  PassedTriggersLH       9151 non-null   object \n",
      "dtypes: float32(10), int32(1), object(86), uint32(3)\n",
      "memory usage: 6.5+ MB\n",
      "     mcWeight  rwCorr  prwWeight      weight  runNumber  mcChannel  \\\n",
      "0   4897494.5     1.0   0.682737         NaN     310738     700349   \n",
      "1 -25776374.0     1.0   0.648401 -16556410.0     311365     700349   \n",
      "2  35386328.0     1.0   0.987289  34697736.0     302393     700349   \n",
      "3   5263136.0     1.0   0.987289   5132413.0     308047     700349   \n",
      "4  43274236.0     1.0   1.019609  44122820.0     307935     700349   \n",
      "\n",
      "   eventNumber  nVtx passTruth passReco  ...              VisTruthTauM  \\\n",
      "0       557985    22      True     True  ...                     [0.0]   \n",
      "1       556591    17      True    False  ...  [1.7901583461602493e+28]   \n",
      "2       556872    17      True    False  ...   [1.898691352900131e-18]   \n",
      "3       557296    12      True     True  ...                     [0.0]   \n",
      "4       556459    18      True     True  ...          [243107823616.0]   \n",
      "\n",
      "            TruthTauCharge TruthTau_isHadronic TruthTau_decay_mode  \\\n",
      "0                    [0.0]                  ()         [595784016]   \n",
      "1  [1.419683467879861e-17]                  ()                 [0]   \n",
      "2  [4.125054688293179e-16]                  ()                 [0]   \n",
      "3      [32.15885925292969]                  ()                 [0]   \n",
      "4                    [0.0]                  ()                 [0]   \n",
      "\n",
      "        MET_etx        MET_ety        MET_met   MET_phi PassedTriggersHH  \\\n",
      "0  64979.449219 -124304.953125  140264.218750 -1.089121               []   \n",
      "1 -60087.882812   10104.359375   60931.535156  2.974992               []   \n",
      "2  -8313.356445   38005.554688   38904.167969  1.786145               []   \n",
      "3 -17014.312500  -38545.277344   42133.421875 -1.986485               []   \n",
      "4 -31137.955078  -28185.619141   42000.015625 -2.405920               []   \n",
      "\n",
      "  PassedTriggersLH  \n",
      "0               []  \n",
      "1               []  \n",
      "2               []  \n",
      "3               []  \n",
      "4               []  \n",
      "\n",
      "[5 rows x 100 columns]\n"
     ]
    }
   ],
   "source": [
    "df.info()\n",
    "df.describe()\n",
    "print(df.head())"
   ],
   "metadata": {
    "collapsed": false,
    "pycharm": {
     "name": "#%%\n"
    }
   }
  },
  {
   "cell_type": "code",
   "execution_count": 10,
   "outputs": [
    {
     "data": {
      "text/plain": "0             [-1977975046144.0]\n1             [-4266785767424.0]\n2             [-3165885825024.0]\n3             [-7111761199104.0]\n4             [-7392192364544.0]\n                  ...           \n9146    [-6.232420642862005e-30]\n9147    [-6.233395644896351e-30]\n9148          [73184095240192.0]\n9149          [-2032282894336.0]\n9150     [6.025583396596713e-44]\nName: TruthTauPt, Length: 9151, dtype: object"
     },
     "execution_count": 10,
     "metadata": {},
     "output_type": "execute_result"
    }
   ],
   "source": [
    "truth_tau_pt = df['TruthTauPt']\n",
    "truth_tau_pt"
   ],
   "metadata": {
    "collapsed": false,
    "pycharm": {
     "name": "#%%\n"
    }
   }
  },
  {
   "cell_type": "code",
   "execution_count": 13,
   "outputs": [
    {
     "ename": "SegmentationViolation",
     "evalue": "Template method resolution failed:\n  none of the 2 overloaded methods succeeded. Full details:\n  float& ROOT::VecOps::RVec<float>::operator[](unsigned long pos) =>\n    SegmentationViolation: segfault in C++; program state was reset\n  const float& ROOT::VecOps::RVec<float>::operator[](unsigned long pos) =>\n    SegmentationViolation: segfault in C++; program state was reset\n  none of the 2 overloaded methods succeeded. Full details:\n  float& ROOT::VecOps::RVec<float>::operator[](unsigned long pos) =>\n    SegmentationViolation: segfault in C++; program state was reset\n  const float& ROOT::VecOps::RVec<float>::operator[](unsigned long pos) =>\n    SegmentationViolation: segfault in C++; program state was reset\n  none of the 2 overloaded methods succeeded. Full details:\n  float& ROOT::VecOps::RVec<float>::operator[](unsigned long pos) =>\n    SegmentationViolation: segfault in C++; program state was reset\n  float& ROOT::VecOps::RVec<float>::operator[](unsigned long pos) =>\n    SegmentationViolation: segfault in C++; program state was reset",
     "output_type": "error",
     "traceback": [
      "\u001B[0;31m---------------------------------------------------------------------------\u001B[0m",
      "\u001B[0;31mSegmentationViolation\u001B[0m                     Traceback (most recent call last)",
      "Input \u001B[0;32mIn [13]\u001B[0m, in \u001B[0;36m<cell line: 1>\u001B[0;34m()\u001B[0m\n\u001B[0;32m----> 1\u001B[0m truth_tau_pt \u001B[38;5;241m=\u001B[39m \u001B[43mtruth_tau_pt\u001B[49m\u001B[38;5;241;43m.\u001B[39;49m\u001B[43mmap\u001B[49m\u001B[43m(\u001B[49m\u001B[38;5;28;43;01mlambda\u001B[39;49;00m\u001B[43m \u001B[49m\u001B[43mx\u001B[49m\u001B[43m:\u001B[49m\u001B[43m \u001B[49m\u001B[43mx\u001B[49m\u001B[43m[\u001B[49m\u001B[38;5;241;43m0\u001B[39;49m\u001B[43m]\u001B[49m\u001B[43m \u001B[49m\u001B[38;5;28;43;01mif\u001B[39;49;00m\u001B[43m \u001B[49m\u001B[38;5;28;43mlen\u001B[39;49m\u001B[43m(\u001B[49m\u001B[43mx\u001B[49m\u001B[43m)\u001B[49m\u001B[43m \u001B[49m\u001B[38;5;241;43m>\u001B[39;49m\u001B[43m \u001B[49m\u001B[38;5;241;43m1\u001B[39;49m\u001B[43m \u001B[49m\u001B[38;5;28;43;01melse\u001B[39;49;00m\u001B[43m \u001B[49m\u001B[43mpd\u001B[49m\u001B[38;5;241;43m.\u001B[39;49m\u001B[43mnan\u001B[49m\u001B[43m)\u001B[49m\n",
      "File \u001B[0;32m/opt/miniconda3/envs/root_env/lib/python3.9/site-packages/pandas/core/series.py:4237\u001B[0m, in \u001B[0;36mSeries.map\u001B[0;34m(self, arg, na_action)\u001B[0m\n\u001B[1;32m   4162\u001B[0m \u001B[38;5;28;01mdef\u001B[39;00m \u001B[38;5;21mmap\u001B[39m(\u001B[38;5;28mself\u001B[39m, arg, na_action\u001B[38;5;241m=\u001B[39m\u001B[38;5;28;01mNone\u001B[39;00m) \u001B[38;5;241m-\u001B[39m\u001B[38;5;241m>\u001B[39m Series:\n\u001B[1;32m   4163\u001B[0m     \u001B[38;5;124;03m\"\"\"\u001B[39;00m\n\u001B[1;32m   4164\u001B[0m \u001B[38;5;124;03m    Map values of Series according to an input mapping or function.\u001B[39;00m\n\u001B[1;32m   4165\u001B[0m \n\u001B[0;32m   (...)\u001B[0m\n\u001B[1;32m   4235\u001B[0m \u001B[38;5;124;03m    dtype: object\u001B[39;00m\n\u001B[1;32m   4236\u001B[0m \u001B[38;5;124;03m    \"\"\"\u001B[39;00m\n\u001B[0;32m-> 4237\u001B[0m     new_values \u001B[38;5;241m=\u001B[39m \u001B[38;5;28;43mself\u001B[39;49m\u001B[38;5;241;43m.\u001B[39;49m\u001B[43m_map_values\u001B[49m\u001B[43m(\u001B[49m\u001B[43marg\u001B[49m\u001B[43m,\u001B[49m\u001B[43m \u001B[49m\u001B[43mna_action\u001B[49m\u001B[38;5;241;43m=\u001B[39;49m\u001B[43mna_action\u001B[49m\u001B[43m)\u001B[49m\n\u001B[1;32m   4238\u001B[0m     \u001B[38;5;28;01mreturn\u001B[39;00m \u001B[38;5;28mself\u001B[39m\u001B[38;5;241m.\u001B[39m_constructor(new_values, index\u001B[38;5;241m=\u001B[39m\u001B[38;5;28mself\u001B[39m\u001B[38;5;241m.\u001B[39mindex)\u001B[38;5;241m.\u001B[39m__finalize__(\n\u001B[1;32m   4239\u001B[0m         \u001B[38;5;28mself\u001B[39m, method\u001B[38;5;241m=\u001B[39m\u001B[38;5;124m\"\u001B[39m\u001B[38;5;124mmap\u001B[39m\u001B[38;5;124m\"\u001B[39m\n\u001B[1;32m   4240\u001B[0m     )\n",
      "File \u001B[0;32m/opt/miniconda3/envs/root_env/lib/python3.9/site-packages/pandas/core/base.py:880\u001B[0m, in \u001B[0;36mIndexOpsMixin._map_values\u001B[0;34m(self, mapper, na_action)\u001B[0m\n\u001B[1;32m    877\u001B[0m         \u001B[38;5;28;01mraise\u001B[39;00m \u001B[38;5;167;01mValueError\u001B[39;00m(msg)\n\u001B[1;32m    879\u001B[0m \u001B[38;5;66;03m# mapper is a function\u001B[39;00m\n\u001B[0;32m--> 880\u001B[0m new_values \u001B[38;5;241m=\u001B[39m \u001B[43mmap_f\u001B[49m\u001B[43m(\u001B[49m\u001B[43mvalues\u001B[49m\u001B[43m,\u001B[49m\u001B[43m \u001B[49m\u001B[43mmapper\u001B[49m\u001B[43m)\u001B[49m\n\u001B[1;32m    882\u001B[0m \u001B[38;5;28;01mreturn\u001B[39;00m new_values\n",
      "File \u001B[0;32m/opt/miniconda3/envs/root_env/lib/python3.9/site-packages/pandas/_libs/lib.pyx:2870\u001B[0m, in \u001B[0;36mpandas._libs.lib.map_infer\u001B[0;34m()\u001B[0m\n",
      "Input \u001B[0;32mIn [13]\u001B[0m, in \u001B[0;36m<lambda>\u001B[0;34m(x)\u001B[0m\n\u001B[0;32m----> 1\u001B[0m truth_tau_pt \u001B[38;5;241m=\u001B[39m truth_tau_pt\u001B[38;5;241m.\u001B[39mmap(\u001B[38;5;28;01mlambda\u001B[39;00m x: \u001B[43mx\u001B[49m\u001B[43m[\u001B[49m\u001B[38;5;241;43m0\u001B[39;49m\u001B[43m]\u001B[49m \u001B[38;5;28;01mif\u001B[39;00m \u001B[38;5;28mlen\u001B[39m(x) \u001B[38;5;241m>\u001B[39m \u001B[38;5;241m1\u001B[39m \u001B[38;5;28;01melse\u001B[39;00m pd\u001B[38;5;241m.\u001B[39mnan)\n",
      "\u001B[0;31mSegmentationViolation\u001B[0m: Template method resolution failed:\n  none of the 2 overloaded methods succeeded. Full details:\n  float& ROOT::VecOps::RVec<float>::operator[](unsigned long pos) =>\n    SegmentationViolation: segfault in C++; program state was reset\n  const float& ROOT::VecOps::RVec<float>::operator[](unsigned long pos) =>\n    SegmentationViolation: segfault in C++; program state was reset\n  none of the 2 overloaded methods succeeded. Full details:\n  float& ROOT::VecOps::RVec<float>::operator[](unsigned long pos) =>\n    SegmentationViolation: segfault in C++; program state was reset\n  const float& ROOT::VecOps::RVec<float>::operator[](unsigned long pos) =>\n    SegmentationViolation: segfault in C++; program state was reset\n  none of the 2 overloaded methods succeeded. Full details:\n  float& ROOT::VecOps::RVec<float>::operator[](unsigned long pos) =>\n    SegmentationViolation: segfault in C++; program state was reset\n  float& ROOT::VecOps::RVec<float>::operator[](unsigned long pos) =>\n    SegmentationViolation: segfault in C++; program state was reset"
     ]
    },
    {
     "name": "stderr",
     "output_type": "stream",
     "text": [
      " *** Break *** segmentation violation\n",
      " *** Break *** segmentation violation\n",
      " *** Break *** segmentation violation\n",
      " *** Break *** segmentation violation\n",
      " *** Break *** segmentation violation\n",
      " *** Break *** segmentation violation\n",
      " *** Break *** segmentation violation\n",
      " *** Break *** segmentation violation\n"
     ]
    }
   ],
   "source": [
    "truth_tau_pt = truth_tau_pt.map(lambda x: x[0] if len(x) > 1 else pd.nan)"
   ],
   "metadata": {
    "collapsed": false,
    "pycharm": {
     "name": "#%%\n"
    }
   }
  },
  {
   "cell_type": "code",
   "execution_count": null,
   "outputs": [],
   "source": [],
   "metadata": {
    "collapsed": false,
    "pycharm": {
     "name": "#%%\n"
    }
   }
  }
 ],
 "metadata": {
  "kernelspec": {
   "display_name": "Python 3",
   "language": "python",
   "name": "python3"
  },
  "language_info": {
   "codemirror_mode": {
    "name": "ipython",
    "version": 2
   },
   "file_extension": ".py",
   "mimetype": "text/x-python",
   "name": "python",
   "nbconvert_exporter": "python",
   "pygments_lexer": "ipython2",
   "version": "2.7.6"
  }
 },
 "nbformat": 4,
 "nbformat_minor": 0
}