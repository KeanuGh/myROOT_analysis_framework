{
 "cells": [
  {
   "cell_type": "code",
   "execution_count": 22,
   "metadata": {
    "collapsed": true
   },
   "outputs": [],
   "source": [
    "import ROOT\n",
    "import numpy as np\n",
    "from src.histogram import Histogram1D\n",
    "\n",
    "ROOT.TH1.SetDefaultSumw2()  # Sets weighted binning in all ROOT histograms by default\n",
    "ROOT.TH1.AddDirectory(False)\n",
    "ROOT.gROOT.SetBatch()  # Prevents TCanvas popups\n",
    "np.random.seed(42)\n",
    "\n",
    "a = np.random.normal(0, 1, 1000)\n",
    "# b = np.random.normal(0, 1, 1000)\n",
    "b = [-.9, -.7, -.5, -.3, -.1, .1, .3, .5, .7, .9]\n",
    "w = np.random.random(1000)\n",
    "# w2 = np.random.random(1000)\n",
    "w2 = np.ones(20)\n",
    "nbins = 10\n",
    "xmin = -1\n",
    "xmax = 1"
   ]
  },
  {
   "cell_type": "code",
   "execution_count": 26,
   "outputs": [
    {
     "name": "stderr",
     "output_type": "stream",
     "text": [
      "Exception in thread Exception in thread Thread-426:\n",
      "Traceback (most recent call last):\n",
      "  File \"/opt/miniconda3/envs/root_env/lib/python3.9/threading.py\", line 973, in _bootstrap_inner\n",
      "Exception in thread Exception in thread Thread-428:\n",
      "Traceback (most recent call last):\n",
      "  File \"/opt/miniconda3/envs/root_env/lib/python3.9/threading.py\", line 973, in _bootstrap_inner\n",
      "Thread-429:\n",
      "Traceback (most recent call last):\n",
      "  File \"/opt/miniconda3/envs/root_env/lib/python3.9/threading.py\", line 973, in _bootstrap_inner\n",
      "Exception in thread Thread-430:\n",
      "Traceback (most recent call last):\n",
      "  File \"/opt/miniconda3/envs/root_env/lib/python3.9/threading.py\", line 973, in _bootstrap_inner\n",
      "Thread-427:\n",
      "Traceback (most recent call last):\n",
      "  File \"/opt/miniconda3/envs/root_env/lib/python3.9/threading.py\", line 973, in _bootstrap_inner\n",
      "    self.run()\n",
      "  File \"/opt/miniconda3/envs/root_env/lib/python3.9/threading.py\", line 910, in run\n",
      "    self.run()\n",
      "  File \"/opt/miniconda3/envs/root_env/lib/python3.9/threading.py\", line 910, in run\n",
      "    self.run()\n",
      "  File \"/opt/miniconda3/envs/root_env/lib/python3.9/threading.py\", line 910, in run\n",
      "    self._target(*self._args, **self._kwargs)\n",
      "  File \"/opt/miniconda3/envs/root_env/lib/python3.9/site-packages/boost_histogram/_internal/hist.py\", line 517, in fun\n",
      "        local_hist.fill(*args, weight=weight, sample=sample)\n",
      "ValueError: spans must have compatible lengths\n",
      "Exception in thread Thread-432:\n",
      "Traceback (most recent call last):\n",
      "  File \"/opt/miniconda3/envs/root_env/lib/python3.9/threading.py\", line 973, in _bootstrap_inner\n",
      "self.run()\n",
      "  File \"/opt/miniconda3/envs/root_env/lib/python3.9/threading.py\", line 910, in run\n",
      "    self._target(*self._args, **self._kwargs)\n",
      "  File \"/opt/miniconda3/envs/root_env/lib/python3.9/site-packages/boost_histogram/_internal/hist.py\", line 517, in fun\n",
      "Exception in thread Thread-431:\n",
      "Traceback (most recent call last):\n",
      "  File \"/opt/miniconda3/envs/root_env/lib/python3.9/threading.py\", line 973, in _bootstrap_inner\n",
      "    self.run()\n",
      "  File \"/opt/miniconda3/envs/root_env/lib/python3.9/threading.py\", line 910, in run\n",
      "    self.run()\n",
      "Exception in thread Thread-434:\n",
      "Traceback (most recent call last):\n",
      "  File \"/opt/miniconda3/envs/root_env/lib/python3.9/threading.py\", line 973, in _bootstrap_inner\n",
      "    self._target(*self._args, **self._kwargs)\n",
      "  File \"/opt/miniconda3/envs/root_env/lib/python3.9/site-packages/boost_histogram/_internal/hist.py\", line 517, in fun\n",
      "Exception in thread Thread-433:\n",
      "Traceback (most recent call last):\n",
      "  File \"/opt/miniconda3/envs/root_env/lib/python3.9/threading.py\", line 973, in _bootstrap_inner\n",
      "  File \"/opt/miniconda3/envs/root_env/lib/python3.9/threading.py\", line 910, in run\n",
      "    local_hist.fill(*args, weight=weight, sample=sample)\n",
      "ValueError: spans must have compatible lengths\n",
      "Exception in thread         Thread-435:\n",
      "Traceback (most recent call last):\n",
      "  File \"/opt/miniconda3/envs/root_env/lib/python3.9/threading.py\", line 973, in _bootstrap_inner\n",
      "    self.run()\n",
      "  File \"/opt/miniconda3/envs/root_env/lib/python3.9/threading.py\", line 910, in run\n",
      "self._target(*self._args, **self._kwargs)\n",
      "  File \"/opt/miniconda3/envs/root_env/lib/python3.9/site-packages/boost_histogram/_internal/hist.py\", line 517, in fun\n",
      "    self.run()\n",
      "  File \"/opt/miniconda3/envs/root_env/lib/python3.9/threading.py\", line 910, in run\n",
      "    local_hist.fill(*args, weight=weight, sample=sample)\n",
      "ValueError: spans must have compatible lengths        self._target(*self._args, **self._kwargs)\n",
      "  File \"/opt/miniconda3/envs/root_env/lib/python3.9/site-packages/boost_histogram/_internal/hist.py\", line 517, in fun\n",
      "    local_hist.fill(*args, weight=weight, sample=sample)self.run()\n",
      "  File \"/opt/miniconda3/envs/root_env/lib/python3.9/threading.py\", line 910, in run\n",
      "\n",
      "\n",
      "ValueError: spans must have compatible lengthsself._target(*self._args, **self._kwargs)        self._target(*self._args, **self._kwargs)\n",
      "  File \"/opt/miniconda3/envs/root_env/lib/python3.9/site-packages/boost_histogram/_internal/hist.py\", line 517, in fun\n",
      "self.run()\n",
      "  File \"/opt/miniconda3/envs/root_env/lib/python3.9/threading.py\", line 910, in run\n",
      "    \n",
      "    self._target(*self._args, **self._kwargs)\n",
      "  File \"/opt/miniconda3/envs/root_env/lib/python3.9/site-packages/boost_histogram/_internal/hist.py\", line 517, in fun\n",
      "    local_hist.fill(*args, weight=weight, sample=sample)\n",
      "ValueError: spans must have compatible lengths\n",
      "\n",
      "  File \"/opt/miniconda3/envs/root_env/lib/python3.9/site-packages/boost_histogram/_internal/hist.py\", line 517, in fun\n",
      "    local_hist.fill(*args, weight=weight, sample=sample)\n",
      "ValueError: spans must have compatible lengths\n",
      "local_hist.fill(*args, weight=weight, sample=sample)\n",
      "ValueError: spans must have compatible lengths\n",
      "    self._target(*self._args, **self._kwargs)\n",
      "  File \"/opt/miniconda3/envs/root_env/lib/python3.9/site-packages/boost_histogram/_internal/hist.py\", line 517, in fun\n",
      "        self._target(*self._args, **self._kwargs)\n",
      "  File \"/opt/miniconda3/envs/root_env/lib/python3.9/site-packages/boost_histogram/_internal/hist.py\", line 517, in fun\n",
      "    local_hist.fill(*args, weight=weight, sample=sample)\n",
      "ValueError: spans must have compatible lengthslocal_hist.fill(*args, weight=weight, sample=sample)\n",
      "ValueError: spans must have compatible lengths\n",
      "    local_hist.fill(*args, weight=weight, sample=sample)\n",
      "ValueError: spans must have compatible lengths\n",
      "\n"
     ]
    },
    {
     "name": "stdout",
     "output_type": "stream",
     "text": [
      "                   ┌─────────────────────────────────────────────────────────┐\n",
      "[-inf,   -1) inf   │                                                         │\n",
      "[  -1, -0.8) 25.09 │                                                         │\n",
      "[-0.8, -0.6) 30.55 │                                                         │\n",
      "[-0.6, -0.4) 44.89 │                                                         │\n",
      "[-0.4, -0.2) 35.57 │                                                         │\n",
      "[-0.2,    0) 32.63 │                                                         │\n",
      "[   0,  0.2) 47    │                                                         │\n",
      "[ 0.2,  0.4) 48.7  │                                                         │\n",
      "[ 0.4,  0.6) 31.13 │                                                         │\n",
      "[ 0.6,  0.8) 35.6  │                                                         │\n",
      "[ 0.8,    1) 25.1  │                                                         │\n",
      "[   1,  inf) inf   │                                                         │\n",
      "                   └─────────────────────────────────────────────────────────┘\n",
      "original mean:      0.005709762469613181\n",
      "second hist mean:   2.2204460492503132e-17\n",
      "divided mean:       0.005709762469613181\n",
      "remultiplied mean:  0.005709762469613181\n"
     ]
    }
   ],
   "source": [
    "hH = Histogram1D(a, bins=(nbins, xmin, xmax), weight=w)\n",
    "h2 = Histogram1D(b, bins=(nbins, xmin, xmax), weight=w2)\n",
    "\n",
    "hH_div = hH / h2\n",
    "\n",
    "hH_remul = hH_div * h2\n",
    "\n",
    "print(hH_div)\n",
    "print('original mean:     ', hH.mean)\n",
    "print('second hist mean:  ', h2.mean)\n",
    "print('divided mean:      ', hH_div.mean)\n",
    "print('remultiplied mean: ', hH_remul.mean)"
   ],
   "metadata": {
    "collapsed": false,
    "pycharm": {
     "name": "#%%\n"
    }
   }
  },
  {
   "cell_type": "code",
   "execution_count": 24,
   "outputs": [
    {
     "name": "stdout",
     "output_type": "stream",
     "text": [
      "               ┌─────────────────────────────────────────────────────────────┐\n",
      "[-inf,   -1) 0 │                                                             │\n",
      "[  -1, -0.8) 1 │████████████████████████████████████████████████████████████ │\n",
      "[-0.8, -0.6) 1 │████████████████████████████████████████████████████████████ │\n",
      "[-0.6, -0.4) 1 │████████████████████████████████████████████████████████████ │\n",
      "[-0.4, -0.2) 1 │████████████████████████████████████████████████████████████ │\n",
      "[-0.2,    0) 1 │████████████████████████████████████████████████████████████ │\n",
      "[   0,  0.2) 1 │████████████████████████████████████████████████████████████ │\n",
      "[ 0.2,  0.4) 1 │████████████████████████████████████████████████████████████ │\n",
      "[ 0.4,  0.6) 1 │████████████████████████████████████████████████████████████ │\n",
      "[ 0.6,  0.8) 1 │████████████████████████████████████████████████████████████ │\n",
      "[ 0.8,    1) 1 │████████████████████████████████████████████████████████████ │\n",
      "[   1,  inf) 0 │                                                             │\n",
      "               └─────────────────────────────────────────────────────────────┘\n"
     ]
    }
   ],
   "source": [
    "print(h2)"
   ],
   "metadata": {
    "collapsed": false,
    "pycharm": {
     "name": "#%%\n"
    }
   }
  },
  {
   "cell_type": "code",
   "execution_count": 25,
   "outputs": [
    {
     "name": "stdout",
     "output_type": "stream",
     "text": [
      "original mean:      0.20247637036762267\n",
      "second hist mean:   -1.1102230246251566e-17\n",
      "divided mean:       0.1721800714642777\n",
      "remultiplied mean:  0.1721800714642777\n"
     ]
    }
   ],
   "source": [
    "hR = ROOT.TH1F('test', 'test;x;entries', nbins, xmin, xmax)\n",
    "hR2 = ROOT.TH1F('test2', 'test;x;entries', nbins, xmin, xmax)\n",
    "for ia, ib, iw, iw2 in zip(a, b, w, w2):\n",
    "\thR.Fill(ia, iw)\n",
    "\thR2.Fill(ib, iw2)\n",
    "\n",
    "hR_div = hR.Clone()\n",
    "hR_div.Divide(hR2)\n",
    "\n",
    "hR_remul = hR_div.Clone()\n",
    "hR_remul.Multiply(hR2)\n",
    "\n",
    "print('original mean:     ', hR.GetMean())\n",
    "print('second hist mean:  ', hR2.GetMean())\n",
    "print('divided mean:      ', hR_div.GetMean())\n",
    "print('remultiplied mean: ', hR_remul.GetMean())"
   ],
   "metadata": {
    "collapsed": false,
    "pycharm": {
     "name": "#%%\n"
    }
   }
  },
  {
   "cell_type": "code",
   "execution_count": null,
   "outputs": [],
   "source": [],
   "metadata": {
    "collapsed": false,
    "pycharm": {
     "name": "#%%\n"
    }
   }
  }
 ],
 "metadata": {
  "kernelspec": {
   "display_name": "Python 3",
   "language": "python",
   "name": "python3"
  },
  "language_info": {
   "codemirror_mode": {
    "name": "ipython",
    "version": 2
   },
   "file_extension": ".py",
   "mimetype": "text/x-python",
   "name": "python",
   "nbconvert_exporter": "python",
   "pygments_lexer": "ipython2",
   "version": "2.7.6"
  }
 },
 "nbformat": 4,
 "nbformat_minor": 0
}