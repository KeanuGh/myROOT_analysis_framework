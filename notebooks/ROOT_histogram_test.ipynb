{
 "cells": [
  {
   "cell_type": "code",
   "execution_count": 2,
   "metadata": {
    "collapsed": true
   },
   "outputs": [
    {
     "name": "stdout",
     "output_type": "stream",
     "text": [
      "Welcome to JupyROOT 6.24/02\n"
     ]
    }
   ],
   "source": [
    "import ROOT\n",
    "import numpy as np\n",
    "from src.histogram import Histogram1D\n",
    "\n",
    "ROOT.TH1.SetDefaultSumw2()  # Sets weighted binning in all ROOT histograms by default\n",
    "ROOT.TH1.AddDirectory(False)  # disables TH1 overwrite warning\n",
    "ROOT.gROOT.SetBatch()  # Prevents TCanvas popups\n",
    "\n",
    "a = np.random.normal(0, 1, 1000)\n",
    "b = np.random.normal(0, 1.1, 1000)\n",
    "w = np.random.random(1000)\n",
    "nbins = 20\n",
    "xmin = -1\n",
    "xmax = 1"
   ]
  },
  {
   "cell_type": "code",
   "execution_count": 3,
   "outputs": [
    {
     "name": "stdout",
     "output_type": "stream",
     "text": [
      "                   ┌─────────────────────────────────────────────────────────┐\n",
      "[-inf,   -1) 79.05 │██████████████████████████████████████████████████████▍  │\n",
      "[  -1, -0.9) 11.91 │████████▎                                                │\n",
      "[-0.9, -0.8) 21.47 │██████████████▊                                          │\n",
      "[-0.8, -0.7) 19.35 │█████████████▍                                           │\n",
      "[-0.7, -0.6) 14.08 │█████████▊                                               │\n",
      "[-0.6, -0.5) 15.77 │██████████▉                                              │\n",
      "[-0.5, -0.4) 18.56 │████████████▊                                            │\n",
      "[-0.4, -0.3) 18.65 │████████████▉                                            │\n",
      "[-0.3, -0.2) 18.55 │████████████▊                                            │\n",
      "[-0.2, -0.1) 17.59 │████████████▏                                            │\n",
      "[-0.1,    0) 16.61 │███████████▍                                             │\n",
      "[   0,  0.1) 24.25 │████████████████▊                                        │\n",
      "[ 0.1,  0.2) 13.73 │█████████▌                                               │\n",
      "[ 0.2,  0.3) 17.49 │████████████                                             │\n",
      "[ 0.3,  0.4) 14.56 │██████████                                               │\n",
      "[ 0.4,  0.5) 19.98 │█████████████▊                                           │\n",
      "[ 0.5,  0.6) 16.62 │███████████▍                                             │\n",
      "[ 0.6,  0.7) 12.88 │████████▉                                                │\n",
      "[ 0.7,  0.8) 13.73 │█████████▌                                               │\n",
      "[ 0.8,  0.9) 17.44 │████████████                                             │\n",
      "[ 0.9,    1) 13.56 │█████████▍                                               │\n",
      "[   1,  inf) 81.36 │████████████████████████████████████████████████████████ │\n",
      "                   └─────────────────────────────────────────────────────────┘\n",
      "                   ┌─────────────────────────────────────────────────────────┐\n",
      "[-inf,   -1) 84.32 │███████████████████████████████████████████████████▏     │\n",
      "[  -1, -0.9) 8.554 │█████▏                                                   │\n",
      "[-0.9, -0.8) 12.59 │███████▋                                                 │\n",
      "[-0.8, -0.7) 11.69 │███████▏                                                 │\n",
      "[-0.7, -0.6) 19.49 │███████████▉                                             │\n",
      "[-0.6, -0.5) 20.14 │████████████▎                                            │\n",
      "[-0.5, -0.4) 17.33 │██████████▌                                              │\n",
      "[-0.4, -0.3) 15.41 │█████████▍                                               │\n",
      "[-0.3, -0.2) 22.05 │█████████████▍                                           │\n",
      "[-0.2, -0.1) 16.7  │██████████▏                                              │\n",
      "[-0.1,    0) 23.01 │██████████████                                           │\n",
      "[   0,  0.1) 15.41 │█████████▍                                               │\n",
      "[ 0.1,  0.2) 15.55 │█████████▍                                               │\n",
      "[ 0.2,  0.3) 19.69 │███████████▉                                             │\n",
      "[ 0.3,  0.4) 16    │█████████▊                                               │\n",
      "[ 0.4,  0.5) 10.79 │██████▌                                                  │\n",
      "[ 0.5,  0.6) 22.78 │█████████████▉                                           │\n",
      "[ 0.6,  0.7) 15.34 │█████████▎                                               │\n",
      "[ 0.7,  0.8) 16.6  │██████████▏                                              │\n",
      "[ 0.8,  0.9) 8.269 │█████                                                    │\n",
      "[ 0.9,    1) 13.12 │████████                                                 │\n",
      "[   1,  inf) 92.37 │████████████████████████████████████████████████████████ │\n",
      "                   └─────────────────────────────────────────────────────────┘\n"
     ]
    }
   ],
   "source": [
    "h = Histogram1D(a, (nbins, xmin, xmax), weight=w)\n",
    "h2 = Histogram1D(b, (nbins, xmin, xmax), weight=w)\n",
    "print(h)\n",
    "print(h2)"
   ],
   "metadata": {
    "collapsed": false,
    "pycharm": {
     "name": "#%%\n"
    }
   }
  },
  {
   "cell_type": "code",
   "execution_count": 4,
   "outputs": [
    {
     "data": {
      "text/plain": "(1.3942848583233913, 0.11706876104690082)"
     },
     "execution_count": 4,
     "metadata": {},
     "output_type": "execute_result"
    }
   ],
   "source": [
    "h.chi_square_fit(h2)"
   ],
   "metadata": {
    "collapsed": false,
    "pycharm": {
     "name": "#%%\n"
    }
   }
  },
  {
   "cell_type": "code",
   "execution_count": 8,
   "outputs": [
    {
     "data": {
      "text/plain": "0.11706876104690082"
     },
     "execution_count": 8,
     "metadata": {},
     "output_type": "execute_result"
    }
   ],
   "source": [
    "h.to_TH1().Chi2Test(h2.to_TH1(), \"WW\")"
   ],
   "metadata": {
    "collapsed": false,
    "pycharm": {
     "name": "#%%\n"
    }
   }
  },
  {
   "cell_type": "code",
   "execution_count": null,
   "outputs": [],
   "source": [],
   "metadata": {
    "collapsed": false,
    "pycharm": {
     "name": "#%%\n"
    }
   }
  }
 ],
 "metadata": {
  "kernelspec": {
   "display_name": "Python 3",
   "language": "python",
   "name": "python3"
  },
  "language_info": {
   "codemirror_mode": {
    "name": "ipython",
    "version": 2
   },
   "file_extension": ".py",
   "mimetype": "text/x-python",
   "name": "python",
   "nbconvert_exporter": "python",
   "pygments_lexer": "ipython2",
   "version": "2.7.6"
  }
 },
 "nbformat": 4,
 "nbformat_minor": 0
}