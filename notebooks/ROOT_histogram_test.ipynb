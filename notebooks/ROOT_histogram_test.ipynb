{
 "cells": [
  {
   "cell_type": "code",
   "execution_count": 21,
   "metadata": {
    "collapsed": true
   },
   "outputs": [],
   "source": [
    "import ROOT\n",
    "import numpy as np\n",
    "from src.histogram import Histogram1D\n",
    "\n",
    "ROOT.TH1.SetDefaultSumw2()  # Sets weighted binning in all ROOT histograms by default\n",
    "ROOT.TH1.AddDirectory(False)\n",
    "ROOT.gROOT.SetBatch()  # Prevents TCanvas popups\n",
    "np.random.seed(42)\n",
    "\n",
    "a = np.random.normal(0, 1, 1000)\n",
    "b = np.random.normal(0, 1, 1000)\n",
    "# b = [-.9, -.7, -.5, -.3, -.1, .1, .3, .5, .7, .9]\n",
    "w = np.random.random(1000)\n",
    "w2 = np.random.random(1000)\n",
    "# w2 = np.ones(20)\n",
    "nbins = 10\n",
    "xmin = -1\n",
    "xmax = 1"
   ]
  },
  {
   "cell_type": "code",
   "execution_count": 22,
   "outputs": [
    {
     "name": "stdout",
     "output_type": "stream",
     "text": [
      "                    ┌────────────────────────────────────────────────────────┐\n",
      "[-inf,   -1) 1.075  │████████████████████████████████▋                       │\n",
      "[  -1, -0.8) 1.192  │████████████████████████████████████▎                   │\n",
      "[-0.8, -0.6) 0.897  │███████████████████████████▎                            │\n",
      "[-0.6, -0.4) 1.811  │███████████████████████████████████████████████████████ │\n",
      "[-0.4, -0.2) 0.7816 │███████████████████████▊                                │\n",
      "[-0.2,    0) 0.8155 │████████████████████████▊                               │\n",
      "[   0,  0.2) 1.145  │██████████████████████████████████▊                     │\n",
      "[ 0.2,  0.4) 1.381  │█████████████████████████████████████████▉              │\n",
      "[ 0.4,  0.6) 0.8047 │████████████████████████▍                               │\n",
      "[ 0.6,  0.8) 1.251  │██████████████████████████████████████                  │\n",
      "[ 0.8,    1) 0.8649 │██████████████████████████▎                             │\n",
      "[   1,  inf) 0.8871 │██████████████████████████▉                             │\n",
      "                    └────────────────────────────────────────────────────────┘\n",
      "original mean:      -0.003409808083029252\n",
      "second hist mean:   0.013463337637830934\n",
      "divided mean:       -0.03079578177163156\n",
      "remultiplied mean:  -0.003409808083029252\n"
     ]
    }
   ],
   "source": [
    "hH = Histogram1D(a, bins=(nbins, xmin, xmax), weight=w)\n",
    "h2 = Histogram1D(b, bins=(nbins, xmin, xmax), weight=w2)\n",
    "\n",
    "hH_div = hH / h2\n",
    "\n",
    "hH_remul = hH_div * h2\n",
    "\n",
    "print(hH_div)\n",
    "print('original mean:     ', hH.mean)\n",
    "print('second hist mean:  ', h2.mean)\n",
    "print('divided mean:      ', hH_div.mean)\n",
    "print('remultiplied mean: ', hH_remul.mean)"
   ],
   "metadata": {
    "collapsed": false,
    "pycharm": {
     "name": "#%%\n"
    }
   }
  },
  {
   "cell_type": "code",
   "execution_count": 23,
   "outputs": [
    {
     "name": "stdout",
     "output_type": "stream",
     "text": [
      "original mean:      -0.0024607456905039724\n",
      "second hist mean:   0.015514270583447837\n",
      "divided mean:       -0.03079575110606322\n",
      "remultiplied mean:  -0.0034098056425223688\n"
     ]
    }
   ],
   "source": [
    "hR = ROOT.TH1F('test', 'test;x;entries', nbins, xmin, xmax)\n",
    "hR2 = ROOT.TH1F('test2', 'test;x;entries', nbins, xmin, xmax)\n",
    "for ia, ib, iw, iw2 in zip(a, b, w, w2):\n",
    "\thR.Fill(ia, iw)\n",
    "\thR2.Fill(ib, iw2)\n",
    "\n",
    "hR_div = hR.Clone()\n",
    "hR_div.Divide(hR2)\n",
    "\n",
    "hR_remul = hR_div.Clone()\n",
    "hR_remul.Multiply(hR2)\n",
    "\n",
    "print('original mean:     ', hR.GetMean())\n",
    "print('second hist mean:  ', hR2.GetMean())\n",
    "print('divided mean:      ', hR_div.GetMean())\n",
    "print('remultiplied mean: ', hR_remul.GetMean())"
   ],
   "metadata": {
    "collapsed": false,
    "pycharm": {
     "name": "#%%\n"
    }
   }
  },
  {
   "cell_type": "code",
   "execution_count": 25,
   "outputs": [
    {
     "name": "stdout",
     "output_type": "stream",
     "text": [
      "-0.0034098070745128013\n",
      "-0.0034098070745128013\n"
     ]
    }
   ],
   "source": [],
   "metadata": {
    "collapsed": false,
    "pycharm": {
     "name": "#%%\n"
    }
   }
  },
  {
   "cell_type": "code",
   "execution_count": 16,
   "outputs": [
    {
     "name": "stdout",
     "output_type": "stream",
     "text": [
      "0.9\n"
     ]
    }
   ],
   "source": [
    "th_2bin_low = ROOT.TH1F('2 bin low' , '2 bin low', 2, 0., 2.)\n",
    "th_2bin_low.Fill(0.1, 0.5)\n",
    "th_2bin_low.Fill(1.1, 2)\n",
    "print(th_2bin_low.GetMean())"
   ],
   "metadata": {
    "collapsed": false,
    "pycharm": {
     "name": "#%%\n"
    }
   }
  },
  {
   "cell_type": "code",
   "execution_count": 17,
   "outputs": [
    {
     "name": "stdout",
     "output_type": "stream",
     "text": [
      "1.7\n"
     ]
    }
   ],
   "source": [
    "th_2bin_hi = ROOT.TH1F('2 bin hi' , '2 bin hi', 2, 0., 2.)\n",
    "th_2bin_hi.Fill(0.9, 0.5)\n",
    "th_2bin_hi.Fill(1.9, 2.)\n",
    "print(th_2bin_hi.GetMean())"
   ],
   "metadata": {
    "collapsed": false,
    "pycharm": {
     "name": "#%%\n"
    }
   }
  },
  {
   "cell_type": "code",
   "execution_count": 18,
   "outputs": [
    {
     "name": "stdout",
     "output_type": "stream",
     "text": [
      "                ┌────────────────────────────────────────────────────────────┐\n",
      "[-inf,   0) 0   │                                                            │\n",
      "[   0,   1) 0.5 │██████████████▊                                             │\n",
      "[   1,   2) 2   │███████████████████████████████████████████████████████████ │\n",
      "[   2, inf) 0   │                                                            │\n",
      "                └────────────────────────────────────────────────────────────┘\n",
      "1.3\n",
      "                ┌────────────────────────────────────────────────────────────┐\n",
      "[-inf,   0) 0   │                                                            │\n",
      "[   0,   1) 0.5 │██████████████▊                                             │\n",
      "[   1,   2) 2   │███████████████████████████████████████████████████████████ │\n",
      "[   2, inf) 0   │                                                            │\n",
      "                └────────────────────────────────────────────────────────────┘\n",
      "1.3\n"
     ]
    }
   ],
   "source": [
    "bh_2bin_low = Histogram1D([0.1, 1.1], (2, 0., 2.), weight=[0.5, 2])\n",
    "print(bh_2bin_low)\n",
    "print(bh_2bin_low.mean)\n",
    "bh_2bin_hi = Histogram1D([0.9, 1.9], (2, 0., 2.), weight=[0.5, 2])\n",
    "print(bh_2bin_hi)\n",
    "print(bh_2bin_hi.mean)"
   ],
   "metadata": {
    "collapsed": false,
    "pycharm": {
     "name": "#%%\n"
    }
   }
  },
  {
   "cell_type": "code",
   "execution_count": null,
   "outputs": [],
   "source": [],
   "metadata": {
    "collapsed": false,
    "pycharm": {
     "name": "#%%\n"
    }
   }
  }
 ],
 "metadata": {
  "kernelspec": {
   "display_name": "Python 3",
   "language": "python",
   "name": "python3"
  },
  "language_info": {
   "codemirror_mode": {
    "name": "ipython",
    "version": 2
   },
   "file_extension": ".py",
   "mimetype": "text/x-python",
   "name": "python",
   "nbconvert_exporter": "python",
   "pygments_lexer": "ipython2",
   "version": "2.7.6"
  }
 },
 "nbformat": 4,
 "nbformat_minor": 0
}