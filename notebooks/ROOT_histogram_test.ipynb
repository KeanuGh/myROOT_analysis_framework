{
 "cells": [
  {
   "cell_type": "code",
   "execution_count": 9,
   "metadata": {
    "collapsed": true
   },
   "outputs": [],
   "source": [
    "import ROOT\n",
    "import numpy as np\n",
    "from src.histogram import Histogram1D"
   ]
  },
  {
   "cell_type": "code",
   "execution_count": 10,
   "outputs": [],
   "source": [
    "ROOT.TH1.SetDefaultSumw2()  # Sets weighted binning in all ROOT histograms by default\n",
    "ROOT.gROOT.SetBatch()  # Prevents TCanvas popups"
   ],
   "metadata": {
    "collapsed": false,
    "pycharm": {
     "name": "#%%\n"
    }
   }
  },
  {
   "cell_type": "code",
   "execution_count": 11,
   "outputs": [],
   "source": [
    "a = np.random.normal(size=1000)\n",
    "w = np.random.random(1000)\n",
    "nbins = 20\n",
    "xmin = -1\n",
    "xmax = 1"
   ],
   "metadata": {
    "collapsed": false,
    "pycharm": {
     "name": "#%%\n"
    }
   }
  },
  {
   "cell_type": "code",
   "execution_count": 12,
   "outputs": [],
   "source": [
    "hH = Histogram1D(bins=(nbins, xmin, xmax))"
   ],
   "metadata": {
    "collapsed": false,
    "pycharm": {
     "name": "#%%\n"
    }
   }
  },
  {
   "cell_type": "code",
   "execution_count": 13,
   "outputs": [
    {
     "name": "stdout",
     "output_type": "stream",
     "text": [
      "8.97 µs ± 28.2 ns per loop (mean ± std. dev. of 7 runs, 100,000 loops each)\n"
     ]
    }
   ],
   "source": [
    "%%timeit\n",
    "hH.fill(a, weight=w)"
   ],
   "metadata": {
    "collapsed": false,
    "pycharm": {
     "name": "#%%\n"
    }
   }
  },
  {
   "cell_type": "code",
   "execution_count": 21,
   "outputs": [
    {
     "data": {
      "text/plain": "array([4.27394177e+07, 4.00000000e+00, 7.97883213e+06, 7.41176394e+06,\n       9.78752200e+06, 7.67534516e+06, 9.20558341e+06, 8.43393334e+06,\n       6.84327631e+06, 1.11792446e+07, 7.30527227e+06, 1.12497601e+07,\n       8.52544280e+06, 1.21891296e+07, 1.17583117e+07, 9.84540687e+06,\n       1.38828840e+07, 8.17661672e+06, 8.80577638e+06, 8.68057862e+06,\n       9.27361794e+06, 3.35382373e+07])"
     },
     "execution_count": 21,
     "metadata": {},
     "output_type": "execute_result"
    }
   ],
   "source": [
    "hH.view(flow=True).variance"
   ],
   "metadata": {
    "collapsed": false,
    "pycharm": {
     "name": "#%%\n"
    }
   }
  },
  {
   "cell_type": "code",
   "execution_count": 4,
   "outputs": [
    {
     "data": {
      "text/plain": "<cppyy.gbl.TH1F object at 0x556f4b93cfa0>"
     },
     "execution_count": 4,
     "metadata": {},
     "output_type": "execute_result"
    }
   ],
   "source": [
    "hR = ROOT.TH1F('test', 'test;x;entries', nbins, xmin, xmax)\n",
    "hR"
   ],
   "metadata": {
    "collapsed": false,
    "pycharm": {
     "name": "#%%\n"
    }
   }
  },
  {
   "cell_type": "code",
   "execution_count": 7,
   "outputs": [
    {
     "name": "stdout",
     "output_type": "stream",
     "text": [
      "277 µs ± 16.9 µs per loop (mean ± std. dev. of 7 runs, 1,000 loops each)\n"
     ]
    }
   ],
   "source": [
    "%%timeit\n",
    "for i, j in zip(a, w):\n",
    "\thR.Fill(i, j)"
   ],
   "metadata": {
    "collapsed": false,
    "pycharm": {
     "name": "#%%\n"
    }
   }
  },
  {
   "cell_type": "code",
   "execution_count": 27,
   "outputs": [
    {
     "name": "stdout",
     "output_type": "stream",
     "text": [
      "[-1.0, -0.9, -0.8, -0.7, -0.6, -0.5, -0.3999999999999999, -0.29999999999999993, -0.19999999999999996, -0.09999999999999998, 0.0, 0.10000000000000009, 0.20000000000000018, 0.30000000000000004, 0.40000000000000013, 0.5, 0.6000000000000001, 0.7000000000000002, 0.8, 0.9000000000000001, 1.0000000000000002]\n"
     ]
    }
   ],
   "source": [
    "edges = [hR.GetBinLowEdge(i + 1) for i in range(hR.GetNbinsX())]\n",
    "edges.append(edges[-1] + hR.GetBinWidth(hR.GetNbinsX()))\n",
    "print(edges)"
   ],
   "metadata": {
    "collapsed": false,
    "pycharm": {
     "name": "#%%\n"
    }
   }
  },
  {
   "cell_type": "code",
   "execution_count": 32,
   "outputs": [
    {
     "name": "stdout",
     "output_type": "stream",
     "text": [
      "256643765.9079706\n"
     ]
    }
   ],
   "source": [
    "print(hH.integral)"
   ],
   "metadata": {
    "collapsed": false,
    "pycharm": {
     "name": "#%%\n"
    }
   }
  },
  {
   "cell_type": "code",
   "execution_count": 8,
   "outputs": [
    {
     "data": {
      "text/plain": "[114711.8671875,\n 99741.6953125,\n 69407.3359375,\n 113014.6015625,\n 151185.65625,\n 182838.890625,\n 155302.265625,\n 209960.21875,\n 165627.953125,\n 155813.171875,\n 128193.7109375,\n 173992.6875,\n 223634.90625,\n 186566.171875,\n 179495.546875,\n 157899.828125,\n 75775.515625,\n 140699.15625,\n 91036.03125,\n 102935.0703125]"
     },
     "execution_count": 8,
     "metadata": {},
     "output_type": "execute_result"
    }
   ],
   "source": [
    "[hR.GetBinContent(i + 1) for i in range(hR.GetNbinsX())]"
   ],
   "metadata": {
    "collapsed": false,
    "pycharm": {
     "name": "#%%\n"
    }
   }
  },
  {
   "cell_type": "code",
   "execution_count": 28,
   "outputs": [
    {
     "name": "stdout",
     "output_type": "stream",
     "text": [
      "8.55 µs ± 42.1 ns per loop (mean ± std. dev. of 7 runs, 100,000 loops each)\n"
     ]
    }
   ],
   "source": [
    "%%timeit\n",
    "hH.fill(a, weight=w)"
   ],
   "metadata": {
    "collapsed": false,
    "pycharm": {
     "name": "#%%\n"
    }
   }
  },
  {
   "cell_type": "code",
   "execution_count": 5,
   "outputs": [
    {
     "name": "stdout",
     "output_type": "stream",
     "text": [
      "70.7 µs ± 458 ns per loop (mean ± std. dev. of 7 runs, 10,000 loops each)\n"
     ]
    }
   ],
   "source": [
    "%%timeit\n",
    "map(hR.Fill, *zip(a, w))"
   ],
   "metadata": {
    "collapsed": false,
    "pycharm": {
     "name": "#%%\n"
    }
   }
  },
  {
   "cell_type": "code",
   "execution_count": 13,
   "outputs": [],
   "source": [
    "from multiprocessing.pool import ThreadPool as Pool\n",
    "import os"
   ],
   "metadata": {
    "collapsed": false,
    "pycharm": {
     "name": "#%%\n"
    }
   }
  },
  {
   "cell_type": "code",
   "execution_count": 14,
   "outputs": [
    {
     "name": "stdout",
     "output_type": "stream",
     "text": [
      "2.55 ms ± 259 µs per loop (mean ± std. dev. of 7 runs, 100 loops each)\n"
     ]
    }
   ],
   "source": [
    "%%timeit\n",
    "with Pool(os.cpu_count()) as p:\n",
    "\tp.map(hR.Fill, a)"
   ],
   "metadata": {
    "collapsed": false,
    "pycharm": {
     "name": "#%%\n"
    }
   }
  },
  {
   "cell_type": "code",
   "execution_count": null,
   "outputs": [],
   "source": [
    "%%timeit\n",
    "{hR.Fill(i) for i in a}"
   ],
   "metadata": {
    "collapsed": false,
    "pycharm": {
     "name": "#%%\n"
    }
   }
  },
  {
   "cell_type": "code",
   "execution_count": 22,
   "outputs": [
    {
     "ename": "IndentationError",
     "evalue": "unindent does not match any outer indentation level (<tokenize>, line 31)",
     "output_type": "error",
     "traceback": [
      "\u001B[0;36m  File \u001B[0;32m<tokenize>:31\u001B[0;36m\u001B[0m\n\u001B[0;31m    {hR.Fill(ia, iw) for ia, iw in zip(a, w)}\u001B[0m\n\u001B[0m    ^\u001B[0m\n\u001B[0;31mIndentationError\u001B[0m\u001B[0;31m:\u001B[0m unindent does not match any outer indentation level\n"
     ]
    }
   ],
   "source": [
    "import time\n",
    "\n",
    "boost_times = []\n",
    "root_loop_times = []\n",
    "root_map_times = []\n",
    "root_comp_times = []\n",
    "root_pool_times = []\n",
    "x = np.logspace(10, 10**7, 7)\n",
    "for n in x:\n",
    "\tprint(\"n = \", n)\n",
    "\ta = np.random.normal(size=n)\n",
    "\tw = np.random.random(n)\n",
    "\n",
    "\thR = ROOT.TH1F('test', 'test;x;entries', nbins, xmin, xmax)\n",
    "\thH = Histogram1D(bins=(nbins, xmin, xmax))\n",
    "\n",
    "\tt1 = time.time()\n",
    "\thH.fill(a, weight=w, threads=0)\n",
    "\tboost_times.append(time.time() - t1)\n",
    "\n",
    "\tt2 = time.time()\n",
    "\tfor ia, iw in zip(a, w):\n",
    "\t\thR.Fill(ia, iw)\n",
    "\troot_loop_times.append(time.time() - t2)\n",
    "\n",
    "\tt3 = time.time()\n",
    "\tmap(hR.Fill, *zip(a, w))\n",
    "\troot_map_times.append(time.time() - t3)\n",
    "\n",
    "\tt4 = time.time()\n",
    "\t{hR.Fill(ia, iw) for ia, iw in zip(a, w)}\n",
    "\troot_comp_times.append(time.time() - t4)\n",
    "\n",
    "\tt5 = time.time()\n",
    "\twith Pool(os.cpu_count()) as p:\n",
    "\t\tp.map(hR.Fill, a)\n",
    "\troot_pool_times.append(time.time() - t5)\n",
    "\n",
    "import matplotlib.pyplot as plt\n",
    "plt.plot(boost_times, x, label='boost-histogram')\n",
    "plt.plot(root_loop_times, x, label='ROOT - for loop')\n",
    "plt.plot(root_map_times, x, label='ROOT - map')\n",
    "plt.plot(root_comp_times, x, label='ROOT - comprehension')\n",
    "plt.plot(root_pool_times, x, label='ROOT - thread pool')\n",
    "plt.legend()\n",
    "plt.xlabel('array length')\n",
    "plt.ylabel('time to fill')\n",
    "plt.show()\n"
   ],
   "metadata": {
    "collapsed": false,
    "pycharm": {
     "name": "#%%\n"
    }
   }
  }
 ],
 "metadata": {
  "kernelspec": {
   "display_name": "Python 3",
   "language": "python",
   "name": "python3"
  },
  "language_info": {
   "codemirror_mode": {
    "name": "ipython",
    "version": 2
   },
   "file_extension": ".py",
   "mimetype": "text/x-python",
   "name": "python",
   "nbconvert_exporter": "python",
   "pygments_lexer": "ipython2",
   "version": "2.7.6"
  }
 },
 "nbformat": 4,
 "nbformat_minor": 0
}