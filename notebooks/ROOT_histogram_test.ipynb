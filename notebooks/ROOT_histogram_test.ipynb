{
 "cells": [
  {
   "cell_type": "code",
   "execution_count": 1,
   "metadata": {
    "collapsed": true
   },
   "outputs": [
    {
     "name": "stdout",
     "output_type": "stream",
     "text": [
      "Welcome to JupyROOT 6.24/02\n"
     ]
    }
   ],
   "source": [
    "import ROOT\n",
    "import numpy as np\n",
    "from src.histogram import Histogram1D\n",
    "\n",
    "ROOT.TH1.SetDefaultSumw2()  # Sets weighted binning in all ROOT histograms by default\n",
    "ROOT.TH1.AddDirectory(False)  # disables TH1 overwrite warning\n",
    "ROOT.gROOT.SetBatch()  # Prevents TCanvas popups\n",
    "\n",
    "a = np.random.normal(0, 1, 1000)\n",
    "b = np.random.normal(0, 1.1, 1000)\n",
    "w = np.random.random(1000)\n",
    "nbins = 20\n",
    "xmin = -1\n",
    "xmax = 1"
   ]
  },
  {
   "cell_type": "code",
   "execution_count": 2,
   "outputs": [
    {
     "name": "stdout",
     "output_type": "stream",
     "text": [
      "                   ┌─────────────────────────────────────────────────────────┐\n",
      "[-inf,   -1) 80.09 │████████████████████████████████████████████████████████ │\n",
      "[  -1, -0.9) 8.776 │██████▏                                                  │\n",
      "[-0.9, -0.8) 13.98 │█████████▊                                               │\n",
      "[-0.8, -0.7) 12.16 │████████▌                                                │\n",
      "[-0.7, -0.6) 19.07 │█████████████▍                                           │\n",
      "[-0.6, -0.5) 14.38 │██████████                                               │\n",
      "[-0.5, -0.4) 17    │███████████▉                                             │\n",
      "[-0.4, -0.3) 15.19 │██████████▋                                              │\n",
      "[-0.3, -0.2) 21.29 │██████████████▉                                          │\n",
      "[-0.2, -0.1) 20.09 │██████████████                                           │\n",
      "[-0.1,    0) 23.89 │████████████████▊                                        │\n",
      "[   0,  0.1) 18.77 │█████████████▏                                           │\n",
      "[ 0.1,  0.2) 20.73 │██████████████▌                                          │\n",
      "[ 0.2,  0.3) 14.47 │██████████▏                                              │\n",
      "[ 0.3,  0.4) 24.58 │█████████████████▎                                       │\n",
      "[ 0.4,  0.5) 17.84 │████████████▌                                            │\n",
      "[ 0.5,  0.6) 19.66 │█████████████▊                                           │\n",
      "[ 0.6,  0.7) 15.31 │██████████▊                                              │\n",
      "[ 0.7,  0.8) 12.34 │████████▋                                                │\n",
      "[ 0.8,  0.9) 18.09 │████████████▋                                            │\n",
      "[ 0.9,    1) 12.61 │████████▉                                                │\n",
      "[   1,  inf) 73.66 │███████████████████████████████████████████████████▌     │\n",
      "                   └─────────────────────────────────────────────────────────┘\n",
      "                   ┌─────────────────────────────────────────────────────────┐\n",
      "[-inf,   -1) 90.55 │████████████████████████████████████████████████████████ │\n",
      "[  -1, -0.9) 16.44 │██████████▏                                              │\n",
      "[-0.9, -0.8) 10.58 │██████▌                                                  │\n",
      "[-0.8, -0.7) 12.29 │███████▋                                                 │\n",
      "[-0.7, -0.6) 11.6  │███████▏                                                 │\n",
      "[-0.6, -0.5) 16.23 │██████████                                               │\n",
      "[-0.5, -0.4) 20.24 │████████████▌                                            │\n",
      "[-0.4, -0.3) 9.12  │█████▋                                                   │\n",
      "[-0.3, -0.2) 23.29 │██████████████▍                                          │\n",
      "[-0.2, -0.1) 20.13 │████████████▌                                            │\n",
      "[-0.1,    0) 11.38 │███████                                                  │\n",
      "[   0,  0.1) 19.35 │████████████                                             │\n",
      "[ 0.1,  0.2) 19.61 │████████████▏                                            │\n",
      "[ 0.2,  0.3) 19.68 │████████████▏                                            │\n",
      "[ 0.3,  0.4) 13.46 │████████▍                                                │\n",
      "[ 0.4,  0.5) 18.83 │███████████▋                                             │\n",
      "[ 0.5,  0.6) 13.78 │████████▌                                                │\n",
      "[ 0.6,  0.7) 13.54 │████████▍                                                │\n",
      "[ 0.7,  0.8) 14.55 │█████████                                                │\n",
      "[ 0.8,  0.9) 14.7  │█████████▏                                               │\n",
      "[ 0.9,    1) 18.03 │███████████▏                                             │\n",
      "[   1,  inf) 86.63 │█████████████████████████████████████████████████████▋   │\n",
      "                   └─────────────────────────────────────────────────────────┘\n"
     ]
    }
   ],
   "source": [
    "h = Histogram1D(a, (nbins, xmin, xmax), weight=w)\n",
    "h2 = Histogram1D(b, (nbins, xmin, xmax), weight=w)\n",
    "print(h)\n",
    "print(h2)"
   ],
   "metadata": {
    "collapsed": false,
    "pycharm": {
     "name": "#%%\n"
    }
   }
  },
  {
   "cell_type": "code",
   "execution_count": 3,
   "outputs": [
    {
     "data": {
      "text/plain": "(1.3558628661871663, 0.13697594828344442)"
     },
     "execution_count": 3,
     "metadata": {},
     "output_type": "execute_result"
    }
   ],
   "source": [
    "h.chi_square_fit(h2)"
   ],
   "metadata": {
    "collapsed": false,
    "pycharm": {
     "name": "#%%\n"
    }
   }
  },
  {
   "cell_type": "code",
   "execution_count": 9,
   "outputs": [
    {
     "data": {
      "text/plain": "1.3558628661871663"
     },
     "execution_count": 9,
     "metadata": {},
     "output_type": "execute_result"
    }
   ],
   "source": [
    "h.to_TH1().Chi2Test(h2.to_TH1(), \"CHI2/NDF\")"
   ],
   "metadata": {
    "collapsed": false,
    "pycharm": {
     "name": "#%%\n"
    }
   }
  }
 ],
 "metadata": {
  "kernelspec": {
   "display_name": "Python 3",
   "language": "python",
   "name": "python3"
  },
  "language_info": {
   "codemirror_mode": {
    "name": "ipython",
    "version": 2
   },
   "file_extension": ".py",
   "mimetype": "text/x-python",
   "name": "python",
   "nbconvert_exporter": "python",
   "pygments_lexer": "ipython2",
   "version": "2.7.6"
  }
 },
 "nbformat": 4,
 "nbformat_minor": 0
}