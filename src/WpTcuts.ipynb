{
 "cells": [
  {
   "cell_type": "code",
   "execution_count": 1,
   "metadata": {},
   "outputs": [],
   "source": [
    "import uproot4 as uproot\n",
    "import numpy as np\n",
    "import matplotlib.pyplot as plt\n",
    "from matplotlib.colors import LogNorm\n",
    "import boost_histogram as bh\n",
    "import mplhep as hep\n",
    "import pandas as pd"
   ]
  },
  {
   "cell_type": "code",
   "execution_count": 2,
   "metadata": {
    "pycharm": {
     "name": "#%%\n"
    },
    "scrolled": true
   },
   "outputs": [],
   "source": [
    "%%capture\n",
    "# mplhep Settings\n",
    "# plt.rcParams.update({\n",
    "#     \"text.usetex\":True\n",
    "# })\n",
    "plt.style.use([hep.style.ATLAS])\n",
    "#                {'font.sans-serif': ['Tex Gyre Heros']},  # use when helvetica isn't installed\n",
    "#                {'axes.labelsize': 23},\n",
    "#                {'axes.labelpad': 23},\n",
    "#                {'axes.titlelocation': 'right'},\n",
    "#                ])"
   ]
  },
  {
   "cell_type": "code",
   "execution_count": 3,
   "metadata": {},
   "outputs": [],
   "source": [
    "filename = 'wminmunu_MC.root'"
   ]
  },
  {
   "cell_type": "code",
   "execution_count": 4,
   "metadata": {
    "pycharm": {
     "name": "#%%\n"
    }
   },
   "outputs": [
    {
     "name": "stdout",
     "output_type": "stream",
     "text": [
      "CPU times: user 2 µs, sys: 0 ns, total: 2 µs\n",
      "Wall time: 4.05 µs\n"
     ]
    }
   ],
   "source": [
    "%time\n",
    "truth = uproot.open(filename)[\"truth\"]"
   ]
  },
  {
   "cell_type": "code",
   "execution_count": 5,
   "metadata": {},
   "outputs": [
    {
     "data": {
      "text/plain": [
       "['weight_mc',\n",
       " 'eventNumber',\n",
       " 'runNumber',\n",
       " 'mu',\n",
       " 'weight_pileup',\n",
       " 'randomRunNumber',\n",
       " 'mcChannelNumber',\n",
       " 'PDFinfo_X1',\n",
       " 'PDFinfo_X2',\n",
       " 'PDFinfo_PDGID1',\n",
       " 'PDFinfo_PDGID2',\n",
       " 'PDFinfo_Q',\n",
       " 'PDFinfo_XF1',\n",
       " 'PDFinfo_XF2',\n",
       " 'weight_pileup_hash_truth',\n",
       " 'KFactor_weight_truth',\n",
       " 'KFactor_bornMass_truth',\n",
       " 'MC_WZ_dilep_phi_dres',\n",
       " 'MC_WZ_dilep_eta_dres',\n",
       " 'MC_WZ_dilep_pt_dres',\n",
       " 'MC_WZ_dilep_m_dres',\n",
       " 'MC_WZneutrino_phi_dres',\n",
       " 'MC_WZneutrino_m_dres',\n",
       " 'MC_WZmu_el_phi_dres',\n",
       " 'MC_WZmu_el_eta_dres',\n",
       " 'MC_WZmu_el_pt_dres',\n",
       " 'MC_WZ_dilep_phi_bare',\n",
       " 'MC_WZ_dilep_pt_bare',\n",
       " 'MC_WZ_dilep_m_bare',\n",
       " 'MC_WZ_dilep_eta_bare',\n",
       " 'MC_WZneutrino_phi_bare',\n",
       " 'MC_WZneutrino_eta_bare',\n",
       " 'MC_WZneutrino_pt_born',\n",
       " 'MC_WZmu_el_pt_born',\n",
       " 'MC_WZmu_el_eta_born',\n",
       " 'MC_WZneutrino_eta_dres',\n",
       " 'MC_WZneutrino_m_born',\n",
       " 'MC_WZneutrino_m_bare',\n",
       " 'MC_WZmu_el_phi_born',\n",
       " 'MC_WZmu_el_m_born',\n",
       " 'MC_WZ_dilep_pt_born',\n",
       " 'MC_WZneutrino_pt_dres',\n",
       " 'MC_WZ_pt',\n",
       " 'MC_WZneutrino_eta_born',\n",
       " 'MC_WZ_eta',\n",
       " 'MC_WZ_phi',\n",
       " 'MC_WZneutrino_phi_born',\n",
       " 'MC_WZ_dilep_m_born',\n",
       " 'MC_WZ_m',\n",
       " 'MC_WZ_dilep_eta_born',\n",
       " 'MC_WZ_dilep_phi_born',\n",
       " 'MC_WZmu_el_m_bare',\n",
       " 'MC_WZneutrino_pt_bare',\n",
       " 'MC_WZmu_el_eta_bare',\n",
       " 'MC_WZmu_el_m_dres',\n",
       " 'MC_WZmu_el_pt_bare',\n",
       " 'MC_WZmu_el_phi_bare']"
      ]
     },
     "execution_count": 5,
     "metadata": {},
     "output_type": "execute_result"
    }
   ],
   "source": [
    "truth.keys()"
   ]
  },
  {
   "cell_type": "code",
   "execution_count": 6,
   "metadata": {},
   "outputs": [
    {
     "name": "stdout",
     "output_type": "stream",
     "text": [
      "CPU times: user 2 µs, sys: 1e+03 ns, total: 3 µs\n",
      "Wall time: 3.81 µs\n"
     ]
    }
   ],
   "source": [
    "# into pandas\n",
    "%time\n",
    "truth_df = truth.arrays(library='pd',\n",
    "                        filter_name=[\n",
    "                            'MC_WZmu_el_pt_born',\n",
    "                            'MC_WZneutrino_pt_born',\n",
    "                            'weight_mc',\n",
    "                            'MC_WZ_pt',\n",
    "                        ])"
   ]
  },
  {
   "cell_type": "code",
   "execution_count": 7,
   "metadata": {
    "pycharm": {
     "name": "#%%\n"
    }
   },
   "outputs": [
    {
     "name": "stdout",
     "output_type": "stream",
     "text": [
      "CPU times: user 3 µs, sys: 0 ns, total: 3 µs\n",
      "Wall time: 6.44 µs\n"
     ]
    }
   ],
   "source": [
    "%time\n",
    "# map weight column\n",
    "truth_df['weight'] = truth_df['weight_mc'].map(lambda w: -1 if w < 0 else 1)\n"
   ]
  },
  {
   "cell_type": "code",
   "execution_count": 8,
   "metadata": {},
   "outputs": [],
   "source": [
    "# to GeV\n",
    "GeV_cols = [\n",
    "    'MC_WZneutrino_pt_born',\n",
    "    'MC_WZmu_el_pt_born', \n",
    "    'MC_WZ_pt',\n",
    "]\n",
    "truth_df[GeV_cols] = truth_df[GeV_cols].applymap(lambda val: val / 1000)"
   ]
  },
  {
   "cell_type": "code",
   "execution_count": 9,
   "metadata": {},
   "outputs": [
    {
     "data": {
      "text/html": [
       "<div>\n",
       "<style scoped>\n",
       "    .dataframe tbody tr th:only-of-type {\n",
       "        vertical-align: middle;\n",
       "    }\n",
       "\n",
       "    .dataframe tbody tr th {\n",
       "        vertical-align: top;\n",
       "    }\n",
       "\n",
       "    .dataframe thead th {\n",
       "        text-align: right;\n",
       "    }\n",
       "</style>\n",
       "<table border=\"1\" class=\"dataframe\">\n",
       "  <thead>\n",
       "    <tr style=\"text-align: right;\">\n",
       "      <th></th>\n",
       "      <th>weight_mc</th>\n",
       "      <th>MC_WZneutrino_pt_born</th>\n",
       "      <th>MC_WZmu_el_pt_born</th>\n",
       "      <th>MC_WZ_pt</th>\n",
       "      <th>weight</th>\n",
       "    </tr>\n",
       "  </thead>\n",
       "  <tbody>\n",
       "    <tr>\n",
       "      <th>0</th>\n",
       "      <td>8433.269531</td>\n",
       "      <td>35.049160</td>\n",
       "      <td>39.568496</td>\n",
       "      <td>20.496412</td>\n",
       "      <td>1</td>\n",
       "    </tr>\n",
       "    <tr>\n",
       "      <th>1</th>\n",
       "      <td>8436.570312</td>\n",
       "      <td>29.193055</td>\n",
       "      <td>28.472537</td>\n",
       "      <td>1.068551</td>\n",
       "      <td>1</td>\n",
       "    </tr>\n",
       "    <tr>\n",
       "      <th>2</th>\n",
       "      <td>8436.570312</td>\n",
       "      <td>36.628605</td>\n",
       "      <td>29.414922</td>\n",
       "      <td>7.622897</td>\n",
       "      <td>1</td>\n",
       "    </tr>\n",
       "    <tr>\n",
       "      <th>3</th>\n",
       "      <td>8433.269531</td>\n",
       "      <td>35.988871</td>\n",
       "      <td>39.994266</td>\n",
       "      <td>9.314710</td>\n",
       "      <td>1</td>\n",
       "    </tr>\n",
       "    <tr>\n",
       "      <th>4</th>\n",
       "      <td>8436.570312</td>\n",
       "      <td>52.495527</td>\n",
       "      <td>33.879480</td>\n",
       "      <td>25.446846</td>\n",
       "      <td>1</td>\n",
       "    </tr>\n",
       "  </tbody>\n",
       "</table>\n",
       "</div>"
      ],
      "text/plain": [
       "     weight_mc  MC_WZneutrino_pt_born  MC_WZmu_el_pt_born   MC_WZ_pt  weight\n",
       "0  8433.269531              35.049160           39.568496  20.496412       1\n",
       "1  8436.570312              29.193055           28.472537   1.068551       1\n",
       "2  8436.570312              36.628605           29.414922   7.622897       1\n",
       "3  8433.269531              35.988871           39.994266   9.314710       1\n",
       "4  8436.570312              52.495527           33.879480  25.446846       1"
      ]
     },
     "execution_count": 9,
     "metadata": {},
     "output_type": "execute_result"
    }
   ],
   "source": [
    "truth_df.head()"
   ]
  },
  {
   "cell_type": "code",
   "execution_count": 10,
   "metadata": {
    "pycharm": {
     "name": "#%%\n"
    }
   },
   "outputs": [],
   "source": [
    "# add columns of cut booleans\n",
    "truth_df['WpT_lo'] = truth_df['MC_WZ_pt'] < 50\n",
    "truth_df['WpT_hi'] = truth_df['MC_WZ_pt'] > 100"
   ]
  },
  {
   "cell_type": "code",
   "execution_count": 11,
   "metadata": {
    "pycharm": {
     "name": "#%%\n"
    }
   },
   "outputs": [
    {
     "data": {
      "text/html": [
       "<div>\n",
       "<style scoped>\n",
       "    .dataframe tbody tr th:only-of-type {\n",
       "        vertical-align: middle;\n",
       "    }\n",
       "\n",
       "    .dataframe tbody tr th {\n",
       "        vertical-align: top;\n",
       "    }\n",
       "\n",
       "    .dataframe thead th {\n",
       "        text-align: right;\n",
       "    }\n",
       "</style>\n",
       "<table border=\"1\" class=\"dataframe\">\n",
       "  <thead>\n",
       "    <tr style=\"text-align: right;\">\n",
       "      <th></th>\n",
       "      <th>weight_mc</th>\n",
       "      <th>MC_WZneutrino_pt_born</th>\n",
       "      <th>MC_WZmu_el_pt_born</th>\n",
       "      <th>MC_WZ_pt</th>\n",
       "      <th>weight</th>\n",
       "      <th>WpT_lo</th>\n",
       "      <th>WpT_hi</th>\n",
       "    </tr>\n",
       "  </thead>\n",
       "  <tbody>\n",
       "    <tr>\n",
       "      <th>0</th>\n",
       "      <td>8433.269531</td>\n",
       "      <td>35.049160</td>\n",
       "      <td>39.568496</td>\n",
       "      <td>20.496412</td>\n",
       "      <td>1</td>\n",
       "      <td>True</td>\n",
       "      <td>False</td>\n",
       "    </tr>\n",
       "    <tr>\n",
       "      <th>1</th>\n",
       "      <td>8436.570312</td>\n",
       "      <td>29.193055</td>\n",
       "      <td>28.472537</td>\n",
       "      <td>1.068551</td>\n",
       "      <td>1</td>\n",
       "      <td>True</td>\n",
       "      <td>False</td>\n",
       "    </tr>\n",
       "    <tr>\n",
       "      <th>2</th>\n",
       "      <td>8436.570312</td>\n",
       "      <td>36.628605</td>\n",
       "      <td>29.414922</td>\n",
       "      <td>7.622897</td>\n",
       "      <td>1</td>\n",
       "      <td>True</td>\n",
       "      <td>False</td>\n",
       "    </tr>\n",
       "    <tr>\n",
       "      <th>3</th>\n",
       "      <td>8433.269531</td>\n",
       "      <td>35.988871</td>\n",
       "      <td>39.994266</td>\n",
       "      <td>9.314710</td>\n",
       "      <td>1</td>\n",
       "      <td>True</td>\n",
       "      <td>False</td>\n",
       "    </tr>\n",
       "    <tr>\n",
       "      <th>4</th>\n",
       "      <td>8436.570312</td>\n",
       "      <td>52.495527</td>\n",
       "      <td>33.879480</td>\n",
       "      <td>25.446846</td>\n",
       "      <td>1</td>\n",
       "      <td>True</td>\n",
       "      <td>False</td>\n",
       "    </tr>\n",
       "  </tbody>\n",
       "</table>\n",
       "</div>"
      ],
      "text/plain": [
       "     weight_mc  MC_WZneutrino_pt_born  MC_WZmu_el_pt_born   MC_WZ_pt  weight  \\\n",
       "0  8433.269531              35.049160           39.568496  20.496412       1   \n",
       "1  8436.570312              29.193055           28.472537   1.068551       1   \n",
       "2  8436.570312              36.628605           29.414922   7.622897       1   \n",
       "3  8433.269531              35.988871           39.994266   9.314710       1   \n",
       "4  8436.570312              52.495527           33.879480  25.446846       1   \n",
       "\n",
       "   WpT_lo  WpT_hi  \n",
       "0    True   False  \n",
       "1    True   False  \n",
       "2    True   False  \n",
       "3    True   False  \n",
       "4    True   False  "
      ]
     },
     "execution_count": 11,
     "metadata": {},
     "output_type": "execute_result"
    }
   ],
   "source": [
    "truth_df.head()"
   ]
  },
  {
   "cell_type": "code",
   "execution_count": 12,
   "metadata": {},
   "outputs": [
    {
     "name": "stdout",
     "output_type": "stream",
     "text": [
      "<class 'pandas.core.frame.DataFrame'>\n",
      "Int64Index: 1106013 entries, 0 to 1179999\n",
      "Data columns (total 7 columns):\n",
      " #   Column                 Non-Null Count    Dtype  \n",
      "---  ------                 --------------    -----  \n",
      " 0   weight_mc              1106013 non-null  float32\n",
      " 1   MC_WZneutrino_pt_born  1106013 non-null  float64\n",
      " 2   MC_WZmu_el_pt_born     1106013 non-null  float64\n",
      " 3   MC_WZ_pt               1106013 non-null  float64\n",
      " 4   weight                 1106013 non-null  int64  \n",
      " 5   WpT_lo                 1106013 non-null  bool   \n",
      " 6   WpT_hi                 1106013 non-null  bool   \n",
      "dtypes: bool(2), float32(1), float64(3), int64(1)\n",
      "memory usage: 48.5 MB\n"
     ]
    }
   ],
   "source": [
    "WpT_lo = truth_df[truth_df['WpT_lo']]\n",
    "WpT_lo.info()"
   ]
  },
  {
   "cell_type": "code",
   "execution_count": 22,
   "metadata": {
    "pycharm": {
     "name": "#%%\n"
    }
   },
   "outputs": [
    {
     "data": {
      "text/plain": [
       "Text(0, 1, 'muon $p_{T}$ [GeV]')"
      ]
     },
     "execution_count": 22,
     "metadata": {},
     "output_type": "execute_result"
    },
    {
     "data": {
      "image/png": "[encoded data removed]",
      "text/plain": [
       "<Figure size 630x426.24 with 2 Axes>"
      ]
     },
     "metadata": {},
     "output_type": "display_data"
    }
   ],
   "source": [
    "# Low hisogram \n",
    "hWpT_lo = bh.Histogram(bh.axis.Regular(20, 0, 200),\n",
    "                       bh.axis.Regular(20, 0, 200),\n",
    ")\n",
    "\n",
    "hWpT_lo.fill(WpT_lo['MC_WZneutrino_pt_born'].to_numpy(), \n",
    "             WpT_lo['MC_WZmu_el_pt_born'].to_numpy(), \n",
    "             weight=WpT_lo['MC_WZmu_el_pt_born'].to_numpy(),\n",
    "             threads=6\n",
    "            )\n",
    "\n",
    "fig, ax = plt.subplots()\n",
    "mesh = ax.pcolormesh(*hWpT_lo.axes.edges.T, hWpT_lo.view().T, norm=LogNorm())\n",
    "fig.colorbar(mesh)\n",
    "ax.set_xlabel(\"neutrino $p_{T}$ [GeV]\")\n",
    "ax.set_ylabel(\"muon $p_{T}$ [GeV]\")"
   ]
  },
  {
   "cell_type": "code",
   "execution_count": 15,
   "metadata": {
    "pycharm": {
     "name": "#%%\n"
    },
    "scrolled": true
   },
   "outputs": [
    {
     "data": {
      "text/html": [
       "<div>\n",
       "<style scoped>\n",
       "    .dataframe tbody tr th:only-of-type {\n",
       "        vertical-align: middle;\n",
       "    }\n",
       "\n",
       "    .dataframe tbody tr th {\n",
       "        vertical-align: top;\n",
       "    }\n",
       "\n",
       "    .dataframe thead th {\n",
       "        text-align: right;\n",
       "    }\n",
       "</style>\n",
       "<table border=\"1\" class=\"dataframe\">\n",
       "  <thead>\n",
       "    <tr style=\"text-align: right;\">\n",
       "      <th></th>\n",
       "      <th>weight_mc</th>\n",
       "      <th>MC_WZneutrino_pt_born</th>\n",
       "      <th>MC_WZmu_el_pt_born</th>\n",
       "      <th>MC_WZ_pt</th>\n",
       "      <th>weight</th>\n",
       "    </tr>\n",
       "  </thead>\n",
       "  <tbody>\n",
       "    <tr>\n",
       "      <th>97</th>\n",
       "      <td>8433.269531</td>\n",
       "      <td>89.756922</td>\n",
       "      <td>54.618758</td>\n",
       "      <td>142.981219</td>\n",
       "      <td>1</td>\n",
       "    </tr>\n",
       "    <tr>\n",
       "      <th>176</th>\n",
       "      <td>8436.570312</td>\n",
       "      <td>116.797297</td>\n",
       "      <td>40.248387</td>\n",
       "      <td>134.675281</td>\n",
       "      <td>1</td>\n",
       "    </tr>\n",
       "    <tr>\n",
       "      <th>407</th>\n",
       "      <td>8436.950195</td>\n",
       "      <td>75.092742</td>\n",
       "      <td>67.090039</td>\n",
       "      <td>140.797000</td>\n",
       "      <td>1</td>\n",
       "    </tr>\n",
       "    <tr>\n",
       "      <th>487</th>\n",
       "      <td>8436.950195</td>\n",
       "      <td>74.467000</td>\n",
       "      <td>82.299273</td>\n",
       "      <td>136.323266</td>\n",
       "      <td>1</td>\n",
       "    </tr>\n",
       "    <tr>\n",
       "      <th>956</th>\n",
       "      <td>8438.440430</td>\n",
       "      <td>186.082094</td>\n",
       "      <td>487.077094</td>\n",
       "      <td>673.149688</td>\n",
       "      <td>1</td>\n",
       "    </tr>\n",
       "  </tbody>\n",
       "</table>\n",
       "</div>"
      ],
      "text/plain": [
       "       weight_mc  MC_WZneutrino_pt_born  MC_WZmu_el_pt_born    MC_WZ_pt  \\\n",
       "97   8433.269531              89.756922           54.618758  142.981219   \n",
       "176  8436.570312             116.797297           40.248387  134.675281   \n",
       "407  8436.950195              75.092742           67.090039  140.797000   \n",
       "487  8436.950195              74.467000           82.299273  136.323266   \n",
       "956  8438.440430             186.082094          487.077094  673.149688   \n",
       "\n",
       "     weight  \n",
       "97        1  \n",
       "176       1  \n",
       "407       1  \n",
       "487       1  \n",
       "956       1  "
      ]
     },
     "execution_count": 15,
     "metadata": {},
     "output_type": "execute_result"
    }
   ],
   "source": [
    "WpT_hi = truth_df[truth_df['WpT_hi']][['weight_mc','MC_WZneutrino_pt_born','MC_WZmu_el_pt_born','MC_WZ_pt','weight']]\n",
    "WpT_hi.head()"
   ]
  },
  {
   "cell_type": "code",
   "execution_count": 19,
   "metadata": {
    "pycharm": {
     "name": "#%%\n"
    }
   },
   "outputs": [
    {
     "data": {
      "text/plain": [
       "Text(0, 1, 'muon $p_{T}$ [GeV]')"
      ]
     },
     "execution_count": 19,
     "metadata": {},
     "output_type": "execute_result"
    },
    {
     "data": {
      "image/png": "[encoded data removed]",
      "text/plain": [
       "<Figure size 630x426.24 with 2 Axes>"
      ]
     },
     "metadata": {},
     "output_type": "display_data"
    }
   ],
   "source": [
    "# high hisogram \n",
    "hWpT_hi = bh.Histogram(bh.axis.Regular(20, 0, 200),\n",
    "                       bh.axis.Regular(20, 0, 200),\n",
    ")\n",
    "\n",
    "hWpT_hi.fill(WpT_hi['MC_WZneutrino_pt_born'].to_numpy(), \n",
    "             WpT_hi['MC_WZmu_el_pt_born'].to_numpy(), \n",
    "             weight=WpT_hi['weight'].to_numpy(),\n",
    "             threads=6\n",
    "            )\n",
    "\n",
    "fig, ax = plt.subplots()\n",
    "mesh = ax.pcolormesh(*hWpT_hi.axes.edges.T, hWpT_hi.view().T, norm=LogNorm())\n",
    "fig.colorbar(mesh)\n",
    "plt.xlabel(\"neutrino $p_{T}$ [GeV]\")\n",
    "plt.ylabel(\"muon $p_{T}$ [GeV]\")"
   ]
  },
  {
   "cell_type": "code",
   "execution_count": null,
   "metadata": {},
   "outputs": [],
   "source": []
  }
 ],
 "metadata": {
  "kernelspec": {
   "display_name": "Python 3",
   "language": "python",
   "name": "python3"
  },
  "language_info": {
   "codemirror_mode": {
    "name": "ipython",
    "version": 3
   },
   "file_extension": ".py",
   "mimetype": "text/x-python",
   "name": "python",
   "nbconvert_exporter": "python",
   "pygments_lexer": "ipython3",
   "version": "3.8.3"
  }
 },
 "nbformat": 4,
 "nbformat_minor": 1
}
