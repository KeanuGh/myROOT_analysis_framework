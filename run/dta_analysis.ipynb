{
 "cells": [
  {
   "cell_type": "code",
   "execution_count": 1,
   "metadata": {
    "collapsed": true,
    "pycharm": {
     "name": "#%%\n"
    }
   },
   "outputs": [
    {
     "name": "stdout",
     "output_type": "stream",
     "text": [
      "Welcome to JupyROOT 6.26/00\n",
      "\n",
      "Applying ATLAS style settings...\n",
      "\n"
     ]
    }
   ],
   "source": [
    "from src.analysis import Analysis\n",
    "\n",
    "datasets = {\n",
    "\t'wtaunu_dta': {\n",
    "\t\t'data_path': '/mnt/D/data/DTA_outputs/user.kghorban.Sh_2211_Wtaunu_L_maxHTpTV2_CVetoBVeto.MC16a.v1.2022-04-01_histograms.root/*.root',\n",
    "\t\t'cutfile_path': '../options/DTA_cuts/dta_init.txt',\n",
    "\t\t'TTree_name': 'T_s1tlv_NOMINAL',\n",
    "\t\t'year': '2015+2016',\n",
    "\t\t'lepton': 'tau',\n",
    "\t\t'dataset_type': 'dta',\n",
    "\t\t'label': r'Sherpa $W\\rightarrow\\tau\\nu\\rightarrow h$',\n",
    "\t},\n",
    "\n",
    "\t'wtaunu_analysistop_peak': {\n",
    "\t\t'data_path': '/mnt/D/data/analysistop_out/mc16a/w*taunu/*.root',\n",
    "\t\t'cutfile_path': '../../options/DTA_cuts/analysistop.txt',\n",
    "\t\t'lepton': 'tau',\n",
    "\t\t'dataset_type': 'analysistop',\n",
    "\t\t'label': r'Powheg $W^-\\rightarrow\\tau\\nu\\rightarrow\\mu\\nu$',\n",
    "\t},\n",
    "\t'wtaunu_analysistop': {\n",
    "\t\t'data_path': '/mnt/D/data/analysistop_out/mc16a/w*taunu_*/*.root',\n",
    "\t\t'cutfile_path': '../options/joanna_cutflow/DY_HM.txt',\n",
    "\t\t'lepton': 'tau',\n",
    "\t\t'dataset_type': 'analysistop',\n",
    "\t\t'label': r'Powheg $W^-\\rightarrow\\tau\\nu\\rightarrow\\mu\\nu$',\n",
    "\t},\n",
    "}"
   ]
  },
  {
   "cell_type": "code",
   "execution_count": null,
   "outputs": [
    {
     "name": "stdout",
     "output_type": "stream",
     "text": [
      "\n",
      "======================================================\n",
      "======== INITIALISING DATASET 'dta_analysis' =========\n",
      "======================================================\n",
      "Found pickle file at /home/keanu/Uni_Stuff_Queen_Mary/Python_Projects/myFramework/outputs/dta_analysis//data/wtaunu_dta_df.pkl. Passing to builder\n",
      "Parsting cutfile '../options/DTA_cuts/dta_init.txt'...\n",
      "CUTFILE CONTENTS\n",
      "---------------------------\n",
      "[CUTS]\n",
      "# Name\tVariable\t</>\tCut (in GeV if applicable) tree\n",
      "# truth\n",
      "Truth tau p_T\tTruthTauPt > 20\n",
      "Truth tau eta\tTruthTauEta.abs() < 2.47\n",
      "Truth tau eta crack\t(TruthTauEta.abs() < 1.37) or (TruthTauEta.abs() > 1.52)\n",
      "\n",
      "# reco\n",
      "Tau eta\tTauEta.abs() < 2.4\n",
      "E_{T}^{MISS}\tMET_met > 85\n",
      "M_T\tMTW > 200\n",
      "\n",
      "[OUTPUTS]\n",
      "# truth\n",
      "TruthTauPt\n",
      "TruthTauEta\n",
      "TruthTauPhi\n",
      "TruthTauM\n",
      "VisTruthTauPt\n",
      "VisTruthTauEta\n",
      "VisTruthTauPhi\n",
      "VisTruthTauM\n",
      "TruthNeutrinoPt\n",
      "TruthNeutrinoEta\n",
      "TruthNeutrinoPhi\n",
      "TruthNeutrinoE\n",
      "# TruthJetEta\n",
      "# TruthJetPhi\n",
      "# TruthJetE\n",
      "TruthMTW\n",
      "TruthMuonPt\n",
      "TruthMuonEta\n",
      "TruthMuonPhi\n",
      "TruthMuonE\n",
      "\n",
      "# reco\n",
      "TauPt\n",
      "TauEta\n",
      "TauPhi\n",
      "TauE\n",
      "# JetEta\n",
      "# JetPhi\n",
      "# JetE\n",
      "MET_met\n",
      "MET_phi\n",
      "MTW\n",
      "MuonPt\n",
      "MuonEta\n",
      "MuonPhi\n",
      "---------------------------\n",
      "Variable(s) ['VisTruthTauPhi', 'VisTruthTauEta', 'VisTruthTauM', 'TruthTauM', 'VisTruthTauPt'] not contained in labels dictionary. Some unexpected behaviour may occur.\n",
      "\n",
      "DEBUG DATASET OPTIONS: \n",
      "----------------------------\n",
      "Input ROOT file(s):  /mnt/D/data/DTA_outputs/user.kghorban.Sh_2211_Wtaunu_L_maxHTpTV2_CVetoBVeto.MC16a.v1.2022-04-01_histograms.root/*.root\n",
      "Input pickle file(s): /home/keanu/Uni_Stuff_Queen_Mary/Python_Projects/myFramework/outputs/dta_analysis//data/wtaunu_dta_df.pkl\n",
      "TTree: T_s1tlv_NOMINAL\n",
      "Cutfile: ../options/DTA_cuts/dta_init.txt\n",
      "Cuts from cutfile:\n",
      "Truth tau p_T      : TruthTauPt > 20\n",
      "Truth tau eta      : TruthTauEta.abs() < 2.47\n",
      "Truth tau eta crack: (TruthTauEta.abs() < 1.37) or (TruthTauEta.abs() > 1.52)\n",
      "Tau eta            : TauEta.abs() < 2.4\n",
      "E_{T}^{MISS}       : MET_met > 85\n",
      "M_T                : MTW > 200\n",
      "Hard cut(s) applied: None\n",
      "Forced dataset rebuild: False\n",
      "Calculating cuts: False\n",
      "Pickle datapath: /home/keanu/Uni_Stuff_Queen_Mary/Python_Projects/myFramework/outputs/dta_analysis//data/wtaunu_dta_df.pkl\n",
      "Skipping pickle file verification: False\n",
      "Chunksize for ROOT file import: 1024\n",
      "Validate missing events: True\n",
      "Validate duplicated events: True\n",
      "Validate sum of weights: True\n",
      "Variables from T_s1tlv_NOMINAL tree: \n",
      "  - TruthNeutrinoE\n",
      "  - TruthTauPt\n",
      "  - TauPhi\n",
      "  - VisTruthTauPhi\n",
      "  - MET_met\n",
      "  - TruthMuonPhi\n",
      "  - MuonPhi\n",
      "  - VisTruthTauEta\n",
      "  - TruthNeutrinoPt\n",
      "  - TruthMuonE\n",
      "  - TauE\n",
      "  - MuonPt\n",
      "  - VisTruthTauM\n",
      "  - TruthTauPhi\n",
      "  - TruthMuonPt\n",
      "  - TruthTauM\n",
      "  - TauPt\n",
      "  - MuonEta\n",
      "  - TruthNeutrinoPhi\n",
      "  - TruthTauEta\n",
      "  - TruthMuonEta\n",
      "  - MET_phi\n",
      "  - VisTruthTauPt\n",
      "  - TauEta\n",
      "  - TruthNeutrinoEta\n",
      "Calculated Variables: \n",
      "  - MTW\n",
      "  - TruthMTW\n",
      "----------------------------\n",
      "\n",
      "Reading data from /home/keanu/Uni_Stuff_Queen_Mary/Python_Projects/myFramework/outputs/dta_analysis//data/wtaunu_dta_df.pkl...\n",
      "Checking pickled DataFrame...\n",
      "Variable(s) {'MuonPt', 'TruthMuonPt', 'MuonEta', 'TruthMuonPhi', 'MuonPhi', 'TruthMuonEta', 'TruthMuonE'} missing from DataFrame. Will rebuild\n",
      "Building DataFrame from /mnt/D/data/DTA_outputs/user.kghorban.Sh_2211_Wtaunu_L_maxHTpTV2_CVetoBVeto.MC16a.v1.2022-04-01_histograms.root/*.root (6 file(s))...\n",
      "Initialising RDataframe..\n",
      "Added {'runNumber', 'weight', 'mcChannel', 'eventNumber', 'passTruth', 'prwWeight', 'mcWeight', 'passReco'} to DTA import\n",
      "Extracting {'TruthNeutrinoE', 'TruthTauPt', 'TauPhi', 'VisTruthTauPhi', 'prwWeight', 'MET_met', 'runNumber', 'TruthMuonPhi', 'MuonPhi', 'VisTruthTauEta', 'TruthNeutrinoPt', 'TruthMuonE', 'mcWeight', 'passReco', 'TauE', 'MuonPt', 'VisTruthTauM', 'TruthTauPhi', 'TruthMuonPt', 'TruthTauM', 'TauPt', 'MuonEta', 'TruthNeutrinoPhi', 'weight', 'mcChannel', 'eventNumber', 'TruthTauEta', 'TruthMuonEta', 'passTruth', 'MET_phi', 'VisTruthTauPt', 'TauEta', 'TruthNeutrinoEta'} from T_s1tlv_NOMINAL tree...\n"
     ]
    }
   ],
   "source": [
    "my_analysis = Analysis(datasets, analysis_label='dta_analysis', force_rebuild=False,\n",
    "                       log_level=10, log_out='console', timedatelog=True, separate_loggers=False)"
   ],
   "metadata": {
    "collapsed": false,
    "pycharm": {
     "name": "#%%\n",
     "is_executing": true
    }
   }
  },
  {
   "cell_type": "code",
   "execution_count": null,
   "outputs": [],
   "source": [
    "my_analysis.merge_datasets('wtaunu_analysistop', 'wtaunu_analysistop_peak')"
   ],
   "metadata": {
    "collapsed": false,
    "pycharm": {
     "name": "#%%\n"
    }
   }
  },
  {
   "cell_type": "code",
   "execution_count": null,
   "outputs": [],
   "source": [
    "my_analysis.apply_cuts()"
   ],
   "metadata": {
    "collapsed": false,
    "pycharm": {
     "name": "#%%\n"
    }
   }
  },
  {
   "cell_type": "code",
   "execution_count": null,
   "outputs": [],
   "source": [
    "my_analysis.plot_hist(['wtaunu_dta', 'wtaunu_analysistop'], ['TruthTauPt', 'MC_WZmu_el_pt_born'],\n",
    "\t\t\t\t\t  xlabel=r'Tau $p_T$ [GeV]', filename='taupt_cuts.png', bins=(30, 1, 2000),\n",
    "\t\t\t\t\t  ratio_axlim=1.5, weight='truth_weight', normalise=True, stats_box=True, ratio_fit=True)"
   ],
   "metadata": {
    "collapsed": false,
    "pycharm": {
     "name": "#%%\n"
    }
   }
  }
 ],
 "metadata": {
  "kernelspec": {
   "display_name": "Python 3",
   "language": "python",
   "name": "python3"
  },
  "language_info": {
   "codemirror_mode": {
    "name": "ipython",
    "version": 2
   },
   "file_extension": ".py",
   "mimetype": "text/x-python",
   "name": "python",
   "nbconvert_exporter": "python",
   "pygments_lexer": "ipython2",
   "version": "2.7.6"
  }
 },
 "nbformat": 4,
 "nbformat_minor": 0
}